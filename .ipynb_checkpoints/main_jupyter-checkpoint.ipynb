{
 "cells": [
  {
   "cell_type": "markdown",
   "id": "representative-father",
   "metadata": {},
   "source": [
    "# NGA POLITY RELATIONSHIPS"
   ]
  },
  {
   "cell_type": "code",
   "execution_count": null,
   "id": "shaped-legislature",
   "metadata": {
    "scrolled": true
   },
   "outputs": [],
   "source": [
    "from main_scraper import *\n",
    "import pandas as pd\n",
    "from long_lat_scraper import *\n",
    "\n",
    "df_NGA_POLITY = pd.read_excel('Equinox_2020_packaged_xls.xls', sheet_name=\"Polities\")\n",
    "df_NGA_POLITY_for_capitals = pd.read_excel('Equinox_2020_packaged_xls.xls', sheet_name=\"Equinox2020_CanonDat\")\n",
    "df_capitals = pd.read_excel('Equinox_2022_Nov.xls')\n",
    "df_subregions = pd.read_excel('nga_sub_regions.xls')\n",
    "\n",
    "\n",
    "df_NGA_POLITY_PolsVars = pd.read_excel('SeshatPolsVars_Last.xls')\n",
    "df_NGA_POLITY_PolsVars = df_NGA_POLITY_PolsVars.where(pd.notnull(df_NGA_POLITY_PolsVars), None)\n",
    "df_NGA_ONLY = pd.read_excel('Equinox_2020_packaged_xls.xls', sheet_name=\"NGAs\")\n",
    "\n",
    "#df_NGA_ONLY.head()\n",
    "nga_mapper = nga_db_writer(df_NGA_ONLY, \"ngas_insertion.sql\")\n",
    "#polity_mapper = polity_mapper_maker('CSV_AWS/my_politys.csv')\n",
    "polity_mapper = polity_mapper_maker('my_politys.csv')\n",
    "\n",
    "#long_polity_name_updater_PolsVars(df_NGA_POLITY_PolsVars, 'polity_long_names_insertion_PolsVars.sql')\n",
    "# Paris Basin Needs attention\n",
    "#nga_world_region_updater(df_NGA_POLITY, 'nga_world_region_insertion.sql')\n",
    "polity_timeline_dic = polity_timeline_maker(df_NGA_POLITY)"
   ]
  },
  {
   "cell_type": "code",
   "execution_count": null,
   "id": "athletic-composer",
   "metadata": {},
   "outputs": [],
   "source": [
    "df_subregions.head()"
   ]
  },
  {
   "cell_type": "code",
   "execution_count": null,
   "id": "favorite-arthur",
   "metadata": {},
   "outputs": [],
   "source": [
    "create_subregion_country_sql(df_subregions, True)"
   ]
  },
  {
   "cell_type": "code",
   "execution_count": null,
   "id": "classified-guest",
   "metadata": {},
   "outputs": [],
   "source": [
    "#df_NGA_POLITY_for_capitals.head()"
   ]
  },
  {
   "cell_type": "code",
   "execution_count": null,
   "id": "roman-seating",
   "metadata": {},
   "outputs": [],
   "source": [
    "a = df_capitals[df_capitals.Variable == '\"Capital\"'][[\"Value_From\", \"Variable\", '\"PolID\"']]"
   ]
  },
  {
   "cell_type": "code",
   "execution_count": null,
   "id": "realistic-speech",
   "metadata": {},
   "outputs": [],
   "source": [
    "pol_cap_mapper ={}\n",
    "\n",
    "for index, my_row in enumerate(a.iterrows()):\n",
    "    pol_name = my_row[1]['\"PolID\"'].replace('\"', '')\n",
    "    cap_name = my_row[1][\"Value_From\"].replace('\"', '')  \n",
    "    pol_cap_mapper[cap_name] = pol_name"
   ]
  },
  {
   "cell_type": "code",
   "execution_count": null,
   "id": "wicked-photograph",
   "metadata": {},
   "outputs": [],
   "source": [
    "len(pol_cap_mapper)"
   ]
  },
  {
   "cell_type": "code",
   "execution_count": null,
   "id": "spread-alberta",
   "metadata": {},
   "outputs": [],
   "source": [
    "b = df_NGA_POLITY_for_capitals[df_NGA_POLITY_for_capitals.Variable == \"Capital\"][[\"Value.From\", \"Polity\"]]"
   ]
  },
  {
   "cell_type": "code",
   "execution_count": null,
   "id": "natural-paste",
   "metadata": {},
   "outputs": [],
   "source": [
    "for index, my_row in enumerate(b.iterrows()):\n",
    "    pol_name = my_row[1][\"Polity\"]\n",
    "    cap_name = my_row[1][\"Value.From\"] \n",
    "    if cap_name not in pol_cap_mapper.keys():\n",
    "        pol_cap_mapper[cap_name] = pol_name\n",
    "        print(cap_name)"
   ]
  },
  {
   "cell_type": "code",
   "execution_count": null,
   "id": "neither-theory",
   "metadata": {},
   "outputs": [],
   "source": [
    "import json\n",
    "len(pol_cap_mapper)\n",
    "my_file_name = \"cap_pol_mapper.json\"\n",
    "    \n",
    "with open(my_file_name, \"w\") as outfile:\n",
    "    json.dump(pol_cap_mapper, outfile)"
   ]
  },
  {
   "cell_type": "code",
   "execution_count": null,
   "id": "victorian-median",
   "metadata": {},
   "outputs": [],
   "source": [
    "my_list = []\n",
    "for item in a:\n",
    "    print(item.replace('\"', \"\"))\n",
    "    my_list.append(item.replace('\"', \"\"))"
   ]
  },
  {
   "cell_type": "code",
   "execution_count": null,
   "id": "cardiac-cycle",
   "metadata": {},
   "outputs": [],
   "source": [
    "#print(my_list)"
   ]
  },
  {
   "cell_type": "code",
   "execution_count": null,
   "id": "circular-romance",
   "metadata": {},
   "outputs": [],
   "source": [
    "b = df_NGA_POLITY_for_capitals[df_NGA_POLITY_for_capitals.Variable == \"Capital\"][[\"Value.From\", \"Polity\"]]"
   ]
  },
  {
   "cell_type": "code",
   "execution_count": null,
   "id": "cultural-copper",
   "metadata": {},
   "outputs": [],
   "source": [
    "#print(a)"
   ]
  },
  {
   "cell_type": "markdown",
   "id": "controversial-superintendent",
   "metadata": {},
   "source": [
    "# Extract data from URL:\n",
    "  \"Qazvin\": \"https://www.google.com/maps/place/Qazvin,+Iran/@36.2850527,49.9720833,13z/data=!3m1!4b1!4m5!3m4!1s0x3ff355249e1ae59f:0x9b4276368ecb03b6!8m2!3d36.2795045!4d50.0045669\","
   ]
  },
  {
   "cell_type": "code",
   "execution_count": null,
   "id": "blond-heather",
   "metadata": {},
   "outputs": [],
   "source": []
  },
  {
   "cell_type": "code",
   "execution_count": null,
   "id": "proper-kitchen",
   "metadata": {},
   "outputs": [],
   "source": [
    "from main_scraper import *\n",
    "from long_lat_scraper import *\n",
    "import pandas as pd\n",
    "\n",
    "# all_caps_here_dic = long_lat_extractor([\"Long_lat.json\", \"Long_lat_search.json\", \"Long_lat_search_extra.json\"], \"cap_pol_mapper.json\")\n",
    "create_capital_sql(\"ultimate_cap_file_en.json\", False)"
   ]
  },
  {
   "cell_type": "code",
   "execution_count": null,
   "id": "dangerous-excuse",
   "metadata": {},
   "outputs": [],
   "source": [
    "len(all_caps_here_dic)"
   ]
  },
  {
   "cell_type": "code",
   "execution_count": null,
   "id": "emotional-pointer",
   "metadata": {},
   "outputs": [],
   "source": [
    "from urllib.parse import unquote\n",
    "\n",
    "aaaa = \"%C3%84thiopien\"\n",
    "aaaa = unquote(aaaa)\n"
   ]
  },
  {
   "cell_type": "code",
   "execution_count": null,
   "id": "unnecessary-figure",
   "metadata": {},
   "outputs": [],
   "source": [
    "with open(\"ultimate_cap_file_en.json\") as json_cap_file:\n",
    "    all_capital_data = json.load(json_cap_file)"
   ]
  },
  {
   "cell_type": "code",
   "execution_count": null,
   "id": "fixed-invasion",
   "metadata": {},
   "outputs": [],
   "source": [
    "for item in all_capital_data:\n",
    "    print (item[\"current_country\"])"
   ]
  },
  {
   "cell_type": "code",
   "execution_count": null,
   "id": "prescribed-behalf",
   "metadata": {},
   "outputs": [],
   "source": []
  },
  {
   "cell_type": "code",
   "execution_count": null,
   "id": "hungarian-denial",
   "metadata": {},
   "outputs": [],
   "source": []
  },
  {
   "cell_type": "code",
   "execution_count": null,
   "id": "instructional-roads",
   "metadata": {},
   "outputs": [],
   "source": [
    "from googletrans import Translator\n",
    "translator = Translator()\n",
    "result = translator.translate('Deutschland', src='de', dest='en')\n",
    "print(result.text)\n"
   ]
  },
  {
   "cell_type": "code",
   "execution_count": null,
   "id": "answering-happiness",
   "metadata": {},
   "outputs": [],
   "source": [
    "string = '\"K\\u00f6k Tepe\"!'\n",
    "# default encoding to utf-8\n",
    "string_utf = string.encode()\n",
    "print('The encoded version is:', string_utf, string_utf.decode())"
   ]
  },
  {
   "cell_type": "code",
   "execution_count": null,
   "id": "hybrid-ordinary",
   "metadata": {},
   "outputs": [],
   "source": []
  },
  {
   "cell_type": "code",
   "execution_count": null,
   "id": "cleared-drinking",
   "metadata": {},
   "outputs": [],
   "source": [
    "vvv = {\n",
    "    \"capital_city\": \"Ky%C5%8Dto\",\n",
    "    \"current_country\": \"Japan\",\n",
    "    \"pol_id\": \"JpTokgw\",\n",
    "    \"latitude\": \"35.0984358\",\n",
    "    \"longitude\": \"135.4386806\"\n",
    "  }"
   ]
  },
  {
   "cell_type": "code",
   "execution_count": null,
   "id": "amateur-wallet",
   "metadata": {},
   "outputs": [],
   "source": [
    "vvv['capital_city']"
   ]
  },
  {
   "cell_type": "code",
   "execution_count": null,
   "id": "considered-scott",
   "metadata": {},
   "outputs": [],
   "source": [
    "url_text = \"https://www.google.com/maps/place/Qazvin,+Iran/@36.2850527,49.9720833,13z/data=!3m1!4b1!4m5!3m4!1s0x3ff355249e1ae59f:0x9b4276368ecb03b6!8m2!3d36.2795045!4d50.0045669\"\n",
    "url_text = \"https://www.google.com/maps/search/Mediolanum/@46.0365408,11.9187899,9z/data=!3m1!4b1\"\n",
    "\n",
    "if \"maps/place/\" in url_text:\n",
    "    drop_http = url_text.split(\"maps/place/\")[1]\n",
    "    google_names = drop_http.split(\"/\")[0]\n",
    "    google_name = google_names.split(\",\")[0]\n",
    "    google_country_name = google_names.split(\"+\")[-1]\n",
    "    coords = drop_http.split(\"@\")[1]\n",
    "    lat, lon = coords.split(\",\")[0] , coords.split(\",\")[1]\n",
    "elif \"maps/search/\" in url_text:\n",
    "    drop_http = url_text.split(\"maps/search/\")[1]\n",
    "    google_name = drop_http.split(\"/\")[0]\n",
    "    google_country_name = \"NO_COUNTRY_FROM_GOOGLE\"\n",
    "    coords = drop_http.split(\"@\")[1]\n",
    "    lat, lon = coords.split(\",\")[0] , coords.split(\",\")[1]\n",
    "    if lat == 48.2078548 and lon == 16.3414016:\n",
    "        print(\"BAD SEarch\")\n",
    "else:\n",
    "    print(\"BAD Entry\")"
   ]
  },
  {
   "cell_type": "code",
   "execution_count": null,
   "id": "oriental-collins",
   "metadata": {},
   "outputs": [],
   "source": [
    "print(google_name, lat, lon)"
   ]
  },
  {
   "cell_type": "code",
   "execution_count": null,
   "id": "cross-future",
   "metadata": {},
   "outputs": [],
   "source": [
    "google_country_name"
   ]
  },
  {
   "cell_type": "code",
   "execution_count": null,
   "id": "vanilla-champagne",
   "metadata": {},
   "outputs": [],
   "source": [
    "my_dic = {}\n",
    "for item in list(df_NGA_POLITY[\"World Region\"].unique()):\n",
    "    my_dic[item] = item\n",
    "    \n",
    "my_dic"
   ]
  },
  {
   "cell_type": "code",
   "execution_count": null,
   "id": "threatened-rapid",
   "metadata": {},
   "outputs": [],
   "source": [
    "\n",
    "for row in df_NGA_POLITY.iterrows():\n",
    "    name = row[1]['PolID']\n",
    "    long_name = row[1]['PolName']\n",
    "    long_name_row = f\"UPDATE core_polity SET long_name = '{long_name}' WHERE name = '{name}';\""
   ]
  },
  {
   "cell_type": "code",
   "execution_count": null,
   "id": "documented-taylor",
   "metadata": {},
   "outputs": [],
   "source": [
    "UPDATE core_polity SET long_name = 'Republic of Iran' WHERE name = 'Iran';"
   ]
  },
  {
   "cell_type": "code",
   "execution_count": null,
   "id": "inclusive-learning",
   "metadata": {},
   "outputs": [],
   "source": [
    "nga_polity_rel_db_writer(polity_timeline_dic, \"ngas_polity_rel_insertion_AWS.sql\", nga_mapper, polity_mapper)"
   ]
  },
  {
   "cell_type": "code",
   "execution_count": null,
   "id": "micro-saturday",
   "metadata": {},
   "outputs": [],
   "source": [
    "polity_timeline_dic[\"IrSeleu\"]"
   ]
  },
  {
   "cell_type": "code",
   "execution_count": null,
   "id": "spanish-teens",
   "metadata": {},
   "outputs": [],
   "source": [
    "None == None"
   ]
  },
  {
   "cell_type": "code",
   "execution_count": null,
   "id": "developed-black",
   "metadata": {},
   "outputs": [],
   "source": []
  },
  {
   "cell_type": "code",
   "execution_count": null,
   "id": "phantom-selling",
   "metadata": {},
   "outputs": [],
   "source": [
    "# polity mapper"
   ]
  },
  {
   "cell_type": "code",
   "execution_count": null,
   "id": "opponent-stick",
   "metadata": {},
   "outputs": [],
   "source": [
    "polity_csv_df = pd.read_csv('my_politys.csv')\n",
    "polity_mapper_dic = {}\n",
    "for index, row in enumerate(polity_csv_df.iterrows()):\n",
    "    polity_mapper_dic[row[1]['name']] = row[1]['id']"
   ]
  },
  {
   "cell_type": "code",
   "execution_count": null,
   "id": "virgin-despite",
   "metadata": {},
   "outputs": [],
   "source": [
    "polity_mapper_dic"
   ]
  },
  {
   "cell_type": "code",
   "execution_count": null,
   "id": "introductory-limitation",
   "metadata": {},
   "outputs": [],
   "source": [
    "nga_polity_rel_db_writer(xxx, \"ngas_polity_rel_insertion.sql\")"
   ]
  },
  {
   "cell_type": "code",
   "execution_count": null,
   "id": "seven-criticism",
   "metadata": {},
   "outputs": [],
   "source": [
    "df_NGA_POLITY.columns"
   ]
  },
  {
   "cell_type": "code",
   "execution_count": null,
   "id": "southern-delicious",
   "metadata": {},
   "outputs": [],
   "source": [
    "polity_info = {}\n",
    "for row in df_NGA_POLITY.iterrows():\n",
    "    if not polity_info.get(row[1]['PolID']):\n",
    "        polity_info[row[1]['PolID']] = []\n",
    "        to_be_appended = {\n",
    "            \"NGA\": row[1]['NGA'],\n",
    "            \"year_from\": row[1]['Start'],\n",
    "            \"year_to\": row[1]['End'],\n",
    "        }\n",
    "        polity_info[row[1]['PolID']].append(to_be_appended)\n",
    "        #print(\"Hallo\")\n",
    "    else:\n",
    "        to_be_appended = {\n",
    "            \"NGA\": row[1]['NGA'],\n",
    "            \"year_from\": row[1]['Start'],\n",
    "            \"year_to\": row[1]['End'],\n",
    "        }\n",
    "        polity_info[row[1]['PolID']].append(to_be_appended)\n",
    "        #print(\"Hallo\")\n",
    "    #print(row[1])"
   ]
  },
  {
   "cell_type": "code",
   "execution_count": null,
   "id": "downtown-finger",
   "metadata": {},
   "outputs": [],
   "source": [
    "polity_info[\"IrSeleu\"]"
   ]
  },
  {
   "cell_type": "code",
   "execution_count": null,
   "id": "improving-offering",
   "metadata": {},
   "outputs": [],
   "source": [
    "polity_timeline = {\n",
    "    # key1: pol_id\n",
    "    # key2, value: (year_from, year_to): [NGA1, NGA2, NGA3, etc.]\n",
    "}\n",
    "\n",
    "for polity, NGA_list in polity_info.items():\n",
    "    polity_timeline[polity] = {}\n",
    "    year_from_list = []\n",
    "    year_to_list = []\n",
    "    for NGA_dic in NGA_list:\n",
    "        # create a list of broken down timesteps and check if there are gaps\n",
    "        # set of all year_froms and year_tos\n",
    "        year_from_list.append(NGA_dic['year_from'])\n",
    "        year_to_list.append(NGA_dic['year_to'])\n",
    "    # after getting all the data, we can create sets and timesteps\n",
    "    year_from_list_uinque = list(set(year_from_list))\n",
    "    year_to_list_uinque = list(set(year_to_list))\n",
    "    \n",
    "    merged_sorted_years = sorted(year_from_list_uinque + year_to_list_uinque)\n",
    "    polity_timeline[polity]['years'] = merged_sorted_years\n",
    "    polity_years_tuples = []\n",
    "    for i in range(len(merged_sorted_years) - 1):\n",
    "        polity_years_tuples.append((merged_sorted_years[i], merged_sorted_years[i+1]))\n",
    "    \n",
    "    polity_timeline[polity]['years_tuples'] = polity_years_tuples\n",
    "    \n",
    "    polity_timeline[polity] = {}\n",
    "    for my_year_tuple in polity_years_tuples:\n",
    "        key_2 = my_year_tuple\n",
    "        value_2 = [] # list of NGAS\n",
    "        for NGA_dic in NGA_list:\n",
    "            # an NGA is inculded:\n",
    "            if my_year_tuple[0] >= NGA_dic[\"year_from\"] and my_year_tuple[1] <= NGA_dic[\"year_to\"]:\n",
    "                value_2.append(NGA_dic[\"NGA\"])\n",
    "        if not value_2:\n",
    "            print(my_year_tuple, \":\", polity)\n",
    "        polity_timeline[polity][key_2] = value_2"
   ]
  },
  {
   "cell_type": "code",
   "execution_count": null,
   "id": "pregnant-hayes",
   "metadata": {},
   "outputs": [],
   "source": [
    "x = list(polity_timeline[\"IrAchae\"].keys())"
   ]
  },
  {
   "cell_type": "code",
   "execution_count": null,
   "id": "egyptian-breath",
   "metadata": {},
   "outputs": [],
   "source": [
    "print(x)"
   ]
  },
  {
   "cell_type": "code",
   "execution_count": null,
   "id": "handed-genre",
   "metadata": {},
   "outputs": [],
   "source": [
    "import matplotlib.pyplot as plt\n",
    " \n",
    "# create data\n",
    "x = [str(i) for i in list(polity_timeline[\"IrAchae\"].keys())]\n",
    "\n",
    "# get all unique ngas:\n",
    "all_ngas = []\n",
    "for NGA_list in polity_timeline[\"IrAchae\"].values():\n",
    "    for nga_name in NGA_list:\n",
    "        all_ngas.append(nga_name)\n",
    "unique_ngas = list(set(all_ngas))\n",
    "\n",
    "unique_nga_bars = {}\n",
    "for unique_nga in unique_ngas:\n",
    "    nga_bar = []\n",
    "    for NGA_list in polity_timeline[\"IrAchae\"].values():\n",
    "        if unique_nga in NGA_list:\n",
    "            nga_bar.append(1)\n",
    "        else:\n",
    "            nga_bar.append(0)\n",
    "    unique_nga_bars[unique_nga] = nga_bar\n",
    "        \n",
    "        \n",
    "# plot bars in stack manner\n",
    "accumulated_value = [0] * len(x)\n",
    "plt.bar(x, unique_nga_bars[\"Galilee\"])\n",
    "accumulated_value = unique_nga_bars[\"Galilee\"] + accumulated_value\n",
    "for nga_name, y_value in unique_nga_bars.items():\n",
    "    plt.bar(x, y_value, bottom=accumulated_value)\n",
    "    accumulated_value = y_value + accumulated_value\n",
    "#plt.bar(x, unique_nga_bars[\"Galilee\"], color='r')\n",
    "#plt.bar(x, unique_nga_bars[\"Konya Plain\"], bottom=unique_nga_bars[\"Galilee\"], color='b')\n",
    "#plt.bar(x, unique_nga_bars[\"Konya Plain\"], bottom=unique_nga_bars[\"Galilee\"], color='b')\n",
    "plt.show()\n",
    "\n",
    "# plt.bar(x, y2, bottom=y1, color='b')\n",
    "# plt.bar(x, y3, bottom=y1+y2, color='y')\n",
    "# plt.bar(x, y4, bottom=y1+y2+y3, color='g')\n",
    "# plt.xlabel(\"Teams\")\n",
    "# plt.ylabel(\"Score\")\n",
    "# plt.legend([\"Round 1\", \"Round 2\", \"Round 3\", \"Round 4\"])\n",
    "# plt.title(\"Scores by Teams in 4 Rounds\")\n",
    "# plt.show()\n",
    "        \n",
    "        \n",
    "# nga_1 = [10, 20, 10, 30, 12, 12, 12, 12, 12, 12]\n",
    "# y2 = [20, 25, 15, 25, 12, 12, 12, 12, 12, 12]\n",
    " \n",
    "# # plot bars in stack manner\n",
    "# plt.bar(x, y1, color='r')\n",
    "# plt.bar(x, y2, bottom=y1, color='b')\n",
    "# plt.show()"
   ]
  },
  {
   "cell_type": "code",
   "execution_count": null,
   "id": "educated-providence",
   "metadata": {},
   "outputs": [],
   "source": [
    "unique_nga_bars"
   ]
  },
  {
   "cell_type": "code",
   "execution_count": null,
   "id": "forty-island",
   "metadata": {},
   "outputs": [],
   "source": [
    "polity_timeline[\"IrAchae\"]"
   ]
  },
  {
   "cell_type": "code",
   "execution_count": null,
   "id": "liable-trash",
   "metadata": {},
   "outputs": [],
   "source": []
  },
  {
   "cell_type": "code",
   "execution_count": null,
   "id": "printable-partnership",
   "metadata": {},
   "outputs": [],
   "source": []
  },
  {
   "cell_type": "code",
   "execution_count": null,
   "id": "sunrise-treatment",
   "metadata": {},
   "outputs": [],
   "source": []
  },
  {
   "cell_type": "code",
   "execution_count": null,
   "id": "happy-magnet",
   "metadata": {},
   "outputs": [],
   "source": [
    "a = {(\"l\", \"g\"): 'long', 's': \"small\"}"
   ]
  },
  {
   "cell_type": "code",
   "execution_count": null,
   "id": "outer-commons",
   "metadata": {},
   "outputs": [],
   "source": [
    "b = a.get((\"l\", \"g\"))"
   ]
  },
  {
   "cell_type": "code",
   "execution_count": null,
   "id": "vietnamese-syndrome",
   "metadata": {},
   "outputs": [],
   "source": [
    "print(b)"
   ]
  },
  {
   "cell_type": "code",
   "execution_count": null,
   "id": "tough-integer",
   "metadata": {},
   "outputs": [],
   "source": []
  },
  {
   "cell_type": "code",
   "execution_count": null,
   "id": "cleared-programmer",
   "metadata": {},
   "outputs": [],
   "source": [
    "    <div><a href=\"/w/index.php?title=File:Asia_500ad.jpg\" class=\"image\"><img alt=\"Asia 500ad.jpg\"\n",
    "                src=\"/w/images/thumb/8/87/Asia_500ad.jpg/500px-Asia_500ad.jpg\"\n",
    "                srcset=\"/w/images/thumb/8/87/Asia_500ad.jpg/750px-Asia_500ad.jpg 1.5x, /w/images/thumb/8/87/Asia_500ad.jpg/1000px-Asia_500ad.jpg 2x\"\n",
    "                width=\"500\" height=\"284\"></a></div>"
   ]
  },
  {
   "cell_type": "markdown",
   "id": "ambient-sugar",
   "metadata": {},
   "source": [
    "# Old Wiki Scraper"
   ]
  },
  {
   "cell_type": "code",
   "execution_count": null,
   "id": "engaged-netherlands",
   "metadata": {
    "scrolled": false
   },
   "outputs": [],
   "source": [
    "from main_scraper import *\n",
    "from z_helpers import * \n",
    "\n",
    "\n",
    "gen_var_html_extractor()\n",
    "\n",
    "ultimate_dic = general_variables_extractor()"
   ]
  },
  {
   "cell_type": "code",
   "execution_count": null,
   "id": "developing-rehabilitation",
   "metadata": {
    "scrolled": false
   },
   "outputs": [],
   "source": [
    "pretty_ultimate_dic = all_general_vars_augmenter(ultimate_dic)\n",
    "a_mapping = get_all_users_experts(pretty_ultimate_dic, 100)"
   ]
  },
  {
   "cell_type": "code",
   "execution_count": null,
   "id": "dietary-sharp",
   "metadata": {},
   "outputs": [],
   "source": [
    "a_new_dic = {}\n",
    "for key in a_mapping.keys():\n",
    "    a_new_dic[key] = key"
   ]
  },
  {
   "cell_type": "code",
   "execution_count": null,
   "id": "manual-logistics",
   "metadata": {},
   "outputs": [],
   "source": [
    "#pretty_ultimate_dic[\"scale_of_supra-cultural_interaction\"][\"values_df\"]\n",
    "for index, row in ultimate_dic[\"scale_of_supra-cultural_interaction\"][\"values_df\"].iterrows():\n",
    "    if \":\" in row.wiki_value:\n",
    "        print(str(row.polity), \"---->\", row.wiki_value) "
   ]
  },
  {
   "cell_type": "code",
   "execution_count": null,
   "id": "conditional-computer",
   "metadata": {},
   "outputs": [],
   "source": [
    "pretty_ultimate_dic[\"scale_of_supra-cultural_interaction\"][\"values_df\"]"
   ]
  },
  {
   "cell_type": "code",
   "execution_count": null,
   "id": "critical-cinema",
   "metadata": {},
   "outputs": [],
   "source": [
    "wide_df = pretty_ultimate_dic[\"scale_of_supra-cultural_interaction\"][\"values_df\"]\n",
    "wide_df.loc[wide_df.polity == 'IsCommw']"
   ]
  },
  {
   "cell_type": "code",
   "execution_count": null,
   "id": "entertaining-cemetery",
   "metadata": {},
   "outputs": [],
   "source": [
    "stripped_str = \"[9,000,000]: 98-43\"\n",
    "stripped_str = stripped_str.replace(\",\", \"\")\n",
    "a_str = \";\"\n",
    "my_catches = re.findall(fr'[\\[]{{0,1}}[ ]{{0,1}}(\\d{{1,15}})[ ]{{0,1}}[-|_| ]{{0,1}}[ ]{{0,1}}([\\d{{1,15}}]{{0,1}})[ ]{{0,1}}[\\]]{{0,1}}[ ]{{0,1}}[{a_str}]{{0,1}}(.*)', stripped_str)"
   ]
  },
  {
   "cell_type": "code",
   "execution_count": null,
   "id": "tight-transaction",
   "metadata": {},
   "outputs": [],
   "source": [
    "my_catches"
   ]
  },
  {
   "cell_type": "code",
   "execution_count": null,
   "id": "insured-refrigerator",
   "metadata": {},
   "outputs": [],
   "source": []
  },
  {
   "cell_type": "code",
   "execution_count": null,
   "id": "laden-failure",
   "metadata": {},
   "outputs": [],
   "source": [
    "for index, row in ultimate_dic[\"ra\"][\"values_df\"].iterrows():\n",
    "    if \"AP\" in row[2]:\n",
    "        print(str(row.polity), \"---->\", row[2]) "
   ]
  },
  {
   "cell_type": "code",
   "execution_count": null,
   "id": "biological-secretariat",
   "metadata": {},
   "outputs": [],
   "source": [
    "from IPython.display import display, HTML\n",
    "display(HTML(\"<style>.container { width:80% !important; }</style>\"))\n",
    "display(HTML(\"<style>.output_result { max-width:90% !important; }</style>\"))\n",
    "display(HTML(\"<style>.prompt { display:none !important; }</style>\"))\n",
    "pd.set_option('display.expand_frame_repr', True)\n",
    "pd.options.display.max_colwidth = 500"
   ]
  },
  {
   "cell_type": "code",
   "execution_count": null,
   "id": "enormous-cyprus",
   "metadata": {},
   "outputs": [],
   "source": [
    "ultimate_dic.keys()"
   ]
  },
  {
   "cell_type": "code",
   "execution_count": null,
   "id": "urban-protection",
   "metadata": {},
   "outputs": [],
   "source": [
    "expanded_df = ultimate_dic[\"language_genus\"][\"values_df\"]"
   ]
  },
  {
   "cell_type": "code",
   "execution_count": null,
   "id": "horizontal-nigeria",
   "metadata": {},
   "outputs": [],
   "source": [
    "expanded_df.wiki_value.unique()"
   ]
  },
  {
   "cell_type": "code",
   "execution_count": null,
   "id": "built-session",
   "metadata": {},
   "outputs": [],
   "source": [
    "print(expanded_df.columns())"
   ]
  },
  {
   "cell_type": "code",
   "execution_count": null,
   "id": "ongoing-hundred",
   "metadata": {},
   "outputs": [],
   "source": [
    "a = {'a': 123, 'b': 897}\n",
    "print(f\"Halolo there: {a}\")"
   ]
  },
  {
   "cell_type": "code",
   "execution_count": null,
   "id": "sticky-category",
   "metadata": {},
   "outputs": [],
   "source": [
    "expanded_df.loc[expanded_df.wiki_year_from > 1].head(30)"
   ]
  },
  {
   "cell_type": "code",
   "execution_count": null,
   "id": "linear-melbourne",
   "metadata": {},
   "outputs": [],
   "source": [
    "expanded_df.loc[expanded_df.wiki_clean != '']"
   ]
  },
  {
   "cell_type": "code",
   "execution_count": null,
   "id": "weighted-bottle",
   "metadata": {},
   "outputs": [],
   "source": [
    "pretty_ultimate_dic[\"language_genus\"][\"values_df\"][\"wiki_clean\"].unique()"
   ]
  },
  {
   "cell_type": "markdown",
   "id": "tracked-explanation",
   "metadata": {},
   "source": [
    "<hr>"
   ]
  },
  {
   "cell_type": "code",
   "execution_count": null,
   "id": "hairy-burden",
   "metadata": {},
   "outputs": [],
   "source": [
    "thin_dic, new_json_file = general_vars_sql_maker(ultimate_dic, \"Majid\", \"/z_control_file.json\", False)"
   ]
  },
  {
   "cell_type": "code",
   "execution_count": null,
   "id": "casual-third",
   "metadata": {},
   "outputs": [],
   "source": [
    "thin_dic"
   ]
  },
  {
   "cell_type": "code",
   "execution_count": null,
   "id": "square-basement",
   "metadata": {},
   "outputs": [],
   "source": [
    "import os\n",
    "print(os.getcwd())"
   ]
  },
  {
   "cell_type": "code",
   "execution_count": null,
   "id": "alternative-ceramic",
   "metadata": {},
   "outputs": [],
   "source": [
    "int(None)"
   ]
  },
  {
   "cell_type": "code",
   "execution_count": null,
   "id": "threatened-oliver",
   "metadata": {},
   "outputs": [],
   "source": [
    "from datetime import datetime"
   ]
  },
  {
   "cell_type": "code",
   "execution_count": null,
   "id": "painful-singapore",
   "metadata": {},
   "outputs": [],
   "source": [
    "a = datetime.today().date()"
   ]
  },
  {
   "cell_type": "code",
   "execution_count": null,
   "id": "current-engine",
   "metadata": {},
   "outputs": [],
   "source": [
    "a"
   ]
  },
  {
   "cell_type": "code",
   "execution_count": null,
   "id": "specified-worthy",
   "metadata": {},
   "outputs": [],
   "source": [
    "describe_set_of_value_dfs(ultimate_dic)"
   ]
  },
  {
   "cell_type": "code",
   "execution_count": null,
   "id": "comfortable-albany",
   "metadata": {},
   "outputs": [],
   "source": [
    "wide_df = ultimate_dic[\"scale_of_supra-cultural_interaction\"][\"values_df\"]\n",
    "long_df = value_semi_colon_expander(wide_df)\n",
    "#wide_df_alter = ultimate_dic[\"language_genus\"][\"values_df\"]\n",
    "\n",
    "#merged_long_dfs = []\n",
    "long_df_vs = value_semi_colon_splitter_plus(wide_df)\n",
    "#alternate_long_df_vs = value_semi_colon_splitter_plus(wide_df_alter)\n",
    "#merged_long_dfs = list(set(long_df_vs + alternate_long_df_vs))"
   ]
  },
  {
   "cell_type": "code",
   "execution_count": null,
   "id": "julian-bermuda",
   "metadata": {},
   "outputs": [],
   "source": [
    "long_df[0].tail(20)"
   ]
  },
  {
   "cell_type": "code",
   "execution_count": null,
   "id": "removed-aquatic",
   "metadata": {},
   "outputs": [],
   "source": [
    "long_df_vs"
   ]
  },
  {
   "cell_type": "code",
   "execution_count": null,
   "id": "constitutional-motivation",
   "metadata": {},
   "outputs": [],
   "source": [
    "for my_str in long_df_vs:\n",
    "    is_there_years_here(my_str)"
   ]
  },
  {
   "cell_type": "code",
   "execution_count": null,
   "id": "hazardous-nelson",
   "metadata": {},
   "outputs": [],
   "source": [
    "wide_df.head(10)"
   ]
  },
  {
   "cell_type": "code",
   "execution_count": null,
   "id": "provincial-burton",
   "metadata": {},
   "outputs": [],
   "source": [
    "for item in merged_long_dfs:\n",
    "    print(f\"'{item}'\", end=\", \")"
   ]
  },
  {
   "cell_type": "code",
   "execution_count": null,
   "id": "breeding-branch",
   "metadata": {},
   "outputs": [],
   "source": [
    "for item in alternate_long_df_vs:\n",
    "    print(f\"'{item}'\", end=\", \")"
   ]
  },
  {
   "cell_type": "code",
   "execution_count": null,
   "id": "detailed-clothing",
   "metadata": {},
   "outputs": [],
   "source": [
    "for item in long_df_vs:\n",
    "    print(f\"'{item}'\", end=\", \")"
   ]
  },
  {
   "cell_type": "code",
   "execution_count": null,
   "id": "reported-african",
   "metadata": {},
   "outputs": [],
   "source": []
  },
  {
   "cell_type": "code",
   "execution_count": null,
   "id": "technical-irrigation",
   "metadata": {},
   "outputs": [],
   "source": [
    "long_df_vs"
   ]
  },
  {
   "cell_type": "code",
   "execution_count": null,
   "id": "above-neighborhood",
   "metadata": {},
   "outputs": [],
   "source": [
    "for row, item in expanded_df.iterrows():\n",
    "    if ';' in item[2]:\n",
    "        print(item[2])"
   ]
  },
  {
   "cell_type": "code",
   "execution_count": null,
   "id": "commercial-pursuit",
   "metadata": {},
   "outputs": [],
   "source": [
    "wide_df.loc[wide_df.wiki_value == '8th century BCE']"
   ]
  },
  {
   "cell_type": "code",
   "execution_count": null,
   "id": "potential-council",
   "metadata": {},
   "outputs": [],
   "source": [
    "unique_religions = []\n",
    "for row, values in ultimate_dic[\"alternate_religion_genus\"][\"values_df\"].iterrows():\n",
    "    print(len(values))\n",
    "    if len(values[2].split(';')) > 1:\n",
    "        for item in values[2].split(';'):\n",
    "            if \":\" in item.strip():\n",
    "                double_stripped = item.split(\":\")[0].strip()\n",
    "            else:\n",
    "                double_stripped = item.strip()\n",
    "            if double_stripped not in unique_religions:\n",
    "                unique_religions.append(double_stripped)\n",
    "    else:\n",
    "        if values[2].strip() not in unique_religions:\n",
    "            if \":\" in values[2].strip():\n",
    "                double_stripped = values[2].strip().split(\":\")[0]\n",
    "            else:\n",
    "                double_stripped = values[2].strip().strip()\n",
    "            if double_stripped not in unique_religions:\n",
    "                unique_religions.append(double_stripped.strip())\n"
   ]
  },
  {
   "cell_type": "code",
   "execution_count": null,
   "id": "imposed-roots",
   "metadata": {},
   "outputs": [],
   "source": [
    "unique_religions"
   ]
  },
  {
   "cell_type": "code",
   "execution_count": null,
   "id": "bacterial-essence",
   "metadata": {},
   "outputs": [],
   "source": [
    "gen_var_html_extractor()"
   ]
  },
  {
   "cell_type": "code",
   "execution_count": null,
   "id": "alike-natural",
   "metadata": {},
   "outputs": [],
   "source": [
    "import re\n",
    "my_str = \"\"\"\n",
    "Sogdiana and establish a capital city at Pendjikent.\"[MAJIDBENAM_REF_21]</div><div>Toramana, who made conquests in India \"established his capital city at Salaka\" [MAJIDBENAM_REF_22]</div><div class='meatypart'><b>♠ Language ♣ Bactrian ♥</b> Bactrian; Iranian; Turkic According to the Chinese records from the period, the language of the Hephthalites was distinct from that of those Iranian-speaking people of Central Asia who were called Hu by the Chinese. However, there is no consensus among scholars.[MAJIDBENAM_REF_23] Recent work has reappraised Chinese manuscript sources to postulate that the Hephtalites had ceased to retain their original Altaic language and adopted Bactrian by the end of the fourth century. [MAJIDBENAM_REF_24] \"Probably dominated by an Eastern Iranian language, but their mixed ancestry also lead to multilingualism.\"[MAJIDBENAM_REF_25]<b>♠ Linguistic family ♣ Indo-European ♥</b></div><div class='meatypart'><b>♠ Religion Genus ♣ Hephthalite Religions ♥</b> \"Information about the religion of the Hephthalites is provided by the Chinese sources. Sung Yun reports that in Tokharistan ‘the majority of them do not \"\"\"\n",
    "RefRegex = re.compile(r'(<b>♠) Linguistic family(.*?)</b>(.*?)(</div>)')\n",
    "catches_all = RefRegex.finditer(my_str)\n",
    "print(catches_all)\n",
    "if catches_all:\n",
    "    for index, catches in enumerate(catches_all):\n",
    "        my_str = my_str.replace(catches.group(1), \"</div><div class='meatypart'><b>♠\")"
   ]
  },
  {
   "cell_type": "code",
   "execution_count": null,
   "id": "considered-korean",
   "metadata": {},
   "outputs": [],
   "source": [
    "my_str"
   ]
  },
  {
   "cell_type": "code",
   "execution_count": null,
   "id": "proper-deposit",
   "metadata": {},
   "outputs": [],
   "source": [
    "def tuple_choices_maker_2(my_new_list_of_choices, choice_name):\n",
    "    my_tuple_choices = []\n",
    "    str_mid_list = []\n",
    "    the_name_of_the_tuple = f\"{choice_name.upper()}_CHOICES\"\n",
    "    str_top = f\"{the_name_of_the_tuple} = (\\n\"\n",
    "    str_bot = \")\\n\\n\"\n",
    "\n",
    "    for item in my_new_list_of_choices:\n",
    "        #goodie = v[good_key][\"colname\"]\n",
    "        str_mid_list.append(f\"('{item}', '{item}'),\\n\")\n",
    "        str_mid = \"\".join(str_mid_list)\n",
    "    full_string = str_top + str_mid + str_bot\n",
    "    my_tuple_choices.append(full_string)        \n",
    "                       \n",
    "    # take care of beginning and end\n",
    "    my_tuple_choices.insert(0, f\"\\n##### tuple choices for  {choice_name}.\\n\")\n",
    "    my_tuple_choices_str = \"\".join(my_tuple_choices)\n",
    "    return the_name_of_the_tuple, my_tuple_choices_str\n",
    "\n",
    "degree_of_centralization_CHOICES = ['loose', 'confederated state', 'unitary state', 'nominal', 'confederate state', 'quasi-polity', 'suspected unknown', 'none', 'unknown', 'confederation', 'polity', 'NO_VALUE_ON_WIKI', 'nominal allegiance', 'unitary', ]\n",
    "\n",
    "my_text = tuple_choices_maker_2(degree_of_centralization_CHOICES, \"degree_of_centralization\")[0]"
   ]
  },
  {
   "cell_type": "code",
   "execution_count": null,
   "id": "intellectual-moses",
   "metadata": {},
   "outputs": [],
   "source": [
    "print(my_text)"
   ]
  },
  {
   "cell_type": "code",
   "execution_count": null,
   "id": "refined-contemporary",
   "metadata": {},
   "outputs": [],
   "source": [
    "from main_scraper import *\n",
    "import re\n",
    "\n",
    "my_str = \"\"\"\n",
    "  <div><a href=\"/w/index.php?title=File:Asia_500ad.jpg\" class=\"image\"><img alt=\"Asia 500ad.jpg\"\n",
    "                src=\"/w/images/thumb/8/87/Asia_500ad.jpg/500px-Asia_500ad.jpg\"\n",
    "                srcset=\"/w/images/thumb/8/87/Asia_500ad.jpg/750px-Asia_500ad.jpg 1.5x, /w/images/thumb/8/87/Asia_500ad.jpg/1000px-Asia_500ad.jpg 2x\"\n",
    "                width=\"500\" height=\"284\"></a></div>\"\"\"\n",
    "after_img = image_remover(my_str)"
   ]
  },
  {
   "cell_type": "code",
   "execution_count": null,
   "id": "separate-internet",
   "metadata": {},
   "outputs": [],
   "source": [
    "after_img"
   ]
  },
  {
   "cell_type": "code",
   "execution_count": null,
   "id": "classified-theta",
   "metadata": {},
   "outputs": [],
   "source": [
    "4+4"
   ]
  },
  {
   "cell_type": "code",
   "execution_count": null,
   "id": "variable-check",
   "metadata": {},
   "outputs": [],
   "source": []
  },
  {
   "cell_type": "code",
   "execution_count": null,
   "id": "mexican-chrome",
   "metadata": {},
   "outputs": [],
   "source": [
    "print(catches.group(1))"
   ]
  },
  {
   "cell_type": "code",
   "execution_count": null,
   "id": "other-dividend",
   "metadata": {},
   "outputs": [],
   "source": [
    "a = \"\"\"<p><br>\n",
    "</p>\"\"\"\n",
    "print(a.replace(\"\\n\", \"\"))"
   ]
  },
  {
   "cell_type": "code",
   "execution_count": null,
   "id": "scheduled-hobby",
   "metadata": {},
   "outputs": [],
   "source": [
    "big_dic_1 = general_variables_extractor()"
   ]
  },
  {
   "cell_type": "code",
   "execution_count": null,
   "id": "flush-conducting",
   "metadata": {},
   "outputs": [],
   "source": [
    "len(big_dic_1)"
   ]
  },
  {
   "cell_type": "code",
   "execution_count": null,
   "id": "legislative-snake",
   "metadata": {},
   "outputs": [],
   "source": [
    "big_dic_1[\"Degree of centralization\"]"
   ]
  },
  {
   "cell_type": "code",
   "execution_count": null,
   "id": "worthy-dakota",
   "metadata": {},
   "outputs": [],
   "source": []
  },
  {
   "cell_type": "code",
   "execution_count": null,
   "id": "charitable-amount",
   "metadata": {},
   "outputs": [],
   "source": [
    "import pandas as pd\n",
    "\n",
    "df = pd.read_excel('Equinox_2020_packaged_xls.xls', sheet_name=\"Equinox2020_CanonDat\")\n",
    "\n"
   ]
  },
  {
   "cell_type": "code",
   "execution_count": null,
   "id": "upper-cabin",
   "metadata": {},
   "outputs": [],
   "source": [
    "len(df)"
   ]
  },
  {
   "cell_type": "code",
   "execution_count": null,
   "id": "featured-champagne",
   "metadata": {},
   "outputs": [],
   "source": [
    "unique_general_variables = []\n",
    "for row in df.iterrows():\n",
    "    if row[1]['Section'] == \"General variables\":\n",
    "        if row[1]['Variable'] not in unique_general_variables:\n",
    "            unique_general_variables.append(row[1]['Variable'])"
   ]
  },
  {
   "cell_type": "code",
   "execution_count": null,
   "id": "regular-worcester",
   "metadata": {},
   "outputs": [],
   "source": [
    "print(unique_general_variables)"
   ]
  },
  {
   "cell_type": "code",
   "execution_count": null,
   "id": "congressional-halifax",
   "metadata": {},
   "outputs": [],
   "source": [
    "import re\n",
    "\n",
    "def is_there_years_here(my_str):\n",
    "    my_catches = re.findall('(-?\\d{1,4})[ ]{0,1}([B|b]*[C|c][E|e]*)*[-|_| ](\\d{1,4})[ ]{0,1}([B|b]*[C|c][E|e]*)*', my_str)\n",
    "    if len(my_catches) > 1:\n",
    "        print(f\"Catches are more than 1: {len(my_catches)}\")\n",
    "    return my_catches\n",
    "\n",
    "def remove_year_range(a_str):\n",
    "    my_new_str = re.sub('(-?\\d{1,4})[ ]{0,1}(B*CE*)*[-|_| ](\\d{1,4})[ ]{0,1}(B*CE*)*', \"\", a_str)\n",
    "    while \"  \" in my_new_str:\n",
    "        my_new_str  = my_new_str.replace(\"  \", \" \").strip()\n",
    "    return my_new_str\n",
    "\n",
    "my_str = \"hi 750-54 Bc ali\"\n",
    "\n",
    "my_catch = is_there_years_here(my_str)\n",
    "b = remove_year_range(my_str)"
   ]
  },
  {
   "cell_type": "code",
   "execution_count": null,
   "id": "equipped-thanksgiving",
   "metadata": {},
   "outputs": [],
   "source": [
    "my_catch"
   ]
  },
  {
   "cell_type": "code",
   "execution_count": null,
   "id": "russian-advocacy",
   "metadata": {},
   "outputs": [],
   "source": [
    "new_str = my_str\n",
    "for item in my_catch:\n",
    "    new_str = new_str.replace(item.group(1), \"\")\n",
    "    print(item.group(1))\n",
    "print(my_str)\n",
    "print(new_str)"
   ]
  },
  {
   "cell_type": "code",
   "execution_count": null,
   "id": "ready-tournament",
   "metadata": {},
   "outputs": [],
   "source": [
    "stripped_str = \"[3000000-4000000] tt4 \"\n",
    "my_catches = re.findall('\\[[ ]{0,1}(\\d{1,15})[ ]{0,1}[-|_| ][ ]{0,1}(\\d{1,15})[ ]{0,1}\\]', stripped_str)"
   ]
  },
  {
   "cell_type": "code",
   "execution_count": null,
   "id": "unnecessary-ranch",
   "metadata": {},
   "outputs": [],
   "source": [
    "len(my_catches)"
   ]
  },
  {
   "cell_type": "code",
   "execution_count": null,
   "id": "alternate-custody",
   "metadata": {},
   "outputs": [],
   "source": [
    "def utc_zone_finder(a_str, a_polity):\n",
    "    stripped_str = a_str.replace(\",\", \"\").strip()\n",
    "    letter_part_obj = re.search('([A-Z])', stripped_str)\n",
    "    num_part_obj = re.search('(\\d{1,2})', stripped_str)\n",
    "    num_part = num_part_obj.group(0)\n",
    "    letter_part = letter_part_obj.group(0)\n",
    "    if num_part and letter_part:\n",
    "        output = f\"{num_part} {letter_part}\"\n",
    "    else:\n",
    "        output = \"NO_VALID_VALUE\"\n",
    "        print(f\"BAD_VALUE_GIVEN: {a_str} for: {a_polity}\")\n",
    "    return output\n",
    "\n",
    "print(utc_zone_finder(\"45 R\", \"Ali\"))"
   ]
  },
  {
   "cell_type": "code",
   "execution_count": null,
   "id": "israeli-smell",
   "metadata": {},
   "outputs": [],
   "source": [
    "MYINT = ['IntegerField', 'NumberInput']\n",
    "MYDEC = ['DecimalField', 'NumberInput']\n",
    "MYTXT = ['CharField', 'TextInput']\n",
    "# for these we need, the pandas dfs to smartly select the choices, put them in a tuple or list\n",
    "MYTXT_CH = ['CharField', 'Select']\n",
    "MYFOREIGN = ['ForeignKey', 'Select']\n",
    "\n",
    "\n",
    "def tuple_choices_maker_2(my_new_list_of_choices, choice_name):\n",
    "    my_tuple_choices = []\n",
    "    str_mid_list = []\n",
    "    the_name_of_the_tuple = f\"{choice_name.upper()}_CHOICES\"\n",
    "    str_top = f\"{the_name_of_the_tuple} = (\\n\"\n",
    "    str_bot = \")\\n\\n\"\n",
    "\n",
    "    for item in my_new_list_of_choices:\n",
    "        #goodie = v[good_key][\"colname\"]\n",
    "        str_mid_list.append(f\"('{item}', '{item}'),\\n\")\n",
    "        str_mid = \"\".join(str_mid_list)\n",
    "    full_string = str_top + str_mid + str_bot\n",
    "    my_tuple_choices.append(full_string)        \n",
    "                       \n",
    "    # take care of beginning and end\n",
    "    my_tuple_choices.insert(0, f\"\\n##### tuple choices for  {choice_name}.\\n\")\n",
    "    my_tuple_choices_str = \"\".join(my_tuple_choices)\n",
    "    return the_name_of_the_tuple, my_tuple_choices_str\n",
    "\n",
    "'continuity', 'continuation', 'Continuation', 'contination', 'Continuity', 'continunity', \n",
    "\n",
    "\n",
    "degree_of_centralization_CHOICES = ['loose', 'confederated state', 'unitary state', 'nominal', 'confederate state', 'quasi-polity', 'suspected unknown', 'none', 'unknown', 'confederation', 'polity', 'NO_VALUE_ON_WIKI', 'nominal allegiance', 'unitary', ]\n",
    "\n",
    "supra_polity_relations_CHOICES =  ['none', 'vassalage', 'alliance', 'nominal allegiance', 'suspected unknown', 'nominal', 'personal union', 'NO_VALUE_ON_WIKI', 'unknown', 'Nominal', 'Alliance', 'uncoded',]\n",
    "\n",
    "language_CHOICES = ['Pashto', 'Persian', 'Greek', 'Bactrian', 'Sogdian', 'Pahlavi', 'Brahmi', 'Kharoshthi', 'Tocharian', 'Chinese', 'archaic Chinese', 'Xiangxi', 'Qiandong', 'Chuanqiandian', 'Hmong-Mien', 'Hmongic', 'Middle Chinese', 'Jurchen', 'Khitan', 'Xianbei', 'Manchu language', 'Mongolian language', 'Atanque', 'Shuar', 'Arabic', 'suspected unknown', 'NO_VALUE_ON_WIKI', 'Demotic', 'Ancient Egyptian', 'Late Egyptian', 'demotic Egyptian', 'Castilian Spanish', 'Chuukese', 'French', 'Langues dOil', 'Occitan', 'Latin', 'Old Frankish', 'Germanic', 'Gallic', 'Gaulish', 'English', 'Akan', 'Twi', 'Doric Greek', 'Minoan', 'Early Greek', 'Eteocretan', 'Old Hawaiian', 'Hawaiian', 'Iban', 'Sanskrit', 'Old Javanese', 'Middle Javanese', 'Javanese', 'Canaanite', 'Aramaic', 'Hebrew', 'Kannada', 'Urdu', 'A’chik', 'Prakrit', 'Telugu', 'Tamil', 'Akkadian', 'Sumerian', 'Amorite', 'Old Babylonian', 'Mesopotamian Religions', 'Old Persian', 'Elamite', 'Egyptian', 'Old Elamite', 'Mongolian', 'native Iranian languages', 'Turkic', 'Turkish', 'Babylonian', 'Hurrian', 'Proto-Elamite', 'Old Norse', 'Italian', 'Middle Japanese', 'Old Japanese', 'Late Old Japanese', 'Japanese', 'Early Modern Japanese', 'Old Turkic', 'Iranian', 'Old Khmer', 'Mon', 'Tai', 'Khmer', 'Pali', 'Phoenician', 'Berber', 'Spanish', 'Portuguese', 'Bambara', 'Mande', 'Songhay', 'Russian', 'Georgian', 'Armenian', 'Kereid', 'Tatar', 'Naimans', 'Khalkha', 'Rouran', 'Xiongnu', 'Oirat', 'Zapotec', 'Icelandic', 'Aymara', 'Puquina', 'Quechua', 'Orokaiva', 'unknown', 'Sindhi', 'Punjabi', 'Sakha (Yakut)', 'Merotic', 'Coptic', 'Thai', 'Proto-Indo-European language', 'Nesite', 'Luwian', 'Hattic', 'Hittite', 'Old Assyrian dialect of Akkadian', 'Indo-European language', 'Lydian', 'Ottoman Turkish', 'Phrygian', 'Miami Illinois', 'Cayuga', 'Mohawk', 'Oneida', 'Onondaga', 'Seneca', 'Tuscarora', 'Middle Mongolian', 'Ancient Iranian', 'Chagatai Turkish', 'Sabaic', 'Mainic', 'Qatabanic', 'Hadramawtic', 'Old Arabic']\n",
    "\n",
    "# Done Merged (language_genus and linguistic_family)\n",
    "linguistic_family_CHOICES = ['Indo-European', 'Sino-Tibetan', 'NO_VALUE_ON_WIKI', 'Tungusic', 'Altaic', 'Mongolic', 'Chibcha', 'Chicham', 'Afro-Asiatic', 'Oceanic-Austronesian', 'Celtic', 'Niger-Congo', 'Kwa', 'Hamito-Semitic', 'Austronesian', 'Malayo-Polynesian', 'Semitic', 'Indo-Iranian', 'Dravidian', 'isolate language', 'West Semetic', 'isolate', 'suspected unknown', 'language isolate', 'none', 'Germanic', 'Japonic', 'Turkic', 'Austro-Asiatic, Mon-Khmer', 'Austro-Asiatic', 'unknown', 'Mande', 'Songhay', 'Oghuz', 'Kartvelian', 'Manchu-Tungusic', 'Proto-Mongolic', 'Otomanguean', 'Proto-Otomanguean', 'Mixe-Zoquean', 'Aymaran', 'Quechuan', 'Papuan Languages', 'Tai-Kadai', 'Algonquian', 'Iroquois', 'Iranian']\n",
    "\n",
    "# Done Merged\n",
    "religion_genus_CHOICES = ['Zoroastrianism', 'Graeco-Bactrian Religions', 'Buddhism', 'Christianity', 'Islam', 'Mongolian Shamanism', 'Hittite Religions', 'Ismaili', 'Lydian Religions', 'Chinese State Religion', 'Egyptian Religions', 'Ancient Iranian Religions', 'Hellenistic Religions', 'Hephthalite Religions', 'Manichaeism', 'Ancient East Asian Religion', 'Jain Traditions', 'Xiongnu Religions', 'Roman State Religions', 'Shinto', 'Phrygian Religions', 'Mesopotamian Religions', 'Hinduism', 'Ancient Javanese Religions', 'Confucianism',]\n",
    "\n",
    "# Done Merged\n",
    "religion_family_CHOICES = ['Saivist Traditions', 'Assyrian Religions', 'Republican Religions', 'Imperial Confucian Traditions', 'Shii', 'Bhagavatist Traditions', 'Sunni', 'Vedist Traditions', 'Saivist', 'Islam', 'Chinese Folk Religion', 'Semitic', 'Vaisnava Traditions', 'Ptolemaic Religion', 'Vedic Traditions', 'Japanese Buddhism', 'Orthodox', 'Vaishnava Traditions', 'Shang Religion', 'Atenism', 'Mahayana', 'suspected unknown', 'Japanese State Shinto', 'Saiva Traditions', 'Sufi', 'Chinese Buddhist Traditions', 'Arian', 'Shia', 'Catholic', 'Western Zhou Religion', 'Imperial Cult', 'Theravada', 'Seleucid Religion',]\n",
    "\n",
    "# Done Merged\n",
    "religion_CHOICES = ['Islam', 'Shadhil', 'Karrami', 'Hanafi', 'Mevlevi', 'Ismaili', 'Shafii', 'Shia', 'Twelver', 'Byzantine Orthodox', 'Bektasi', 'NO_VALUE_ON_WIKI', 'Sunni', 'Roman Catholic', ]\n",
    "\n",
    "relationship_to_preceding_entity_CHOICES = ['continuity', 'elite migration', 'cultural assimilation', 'continuation', 'indigenous revolt', 'replacement', 'population migration', 'hostile', 'disruption/continuity', 'continuity/discontinuity', 'NO_VALUE_ON_WIKI', 'suspected unknown', 'vassalage', 'not applicable',]\n",
    "\n",
    "\n",
    "ALL_GENERAL_VARS_LIST =[\n",
    "    {\n",
    "    'varname': 'polityresearchassistant',\n",
    "    'cols': 1,\n",
    "    'needsSeshatCommon': True,\n",
    "    'db_name': \"general\", # Hier\n",
    "    'main_desc': \"The RA(s) who worked on a polity.\", # Hier\n",
    "    'section': \"General Variables\", # Hier\n",
    "    'subsection': \"Staff\", # Hier \n",
    "    },\n",
    "    {\n",
    "    'varname': 'polityutmzone',\n",
    "    'cols': 1,\n",
    "    'needsSeshatCommon': True,\n",
    "    'db_name': \"general\", # Hier\n",
    "    'main_desc': \"The UTM Zone of a polity.\", # Hier\n",
    "    'section': \"General Variables\", # Hier\n",
    "    'subsection': \"General\", # Hier \n",
    "    },\n",
    "    {\n",
    "    'varname': 'polityoriginalname',\n",
    "    'cols': 1,\n",
    "    'needsSeshatCommon': True,\n",
    "    'db_name': \"general\", # Hier\n",
    "    'main_desc': \"The original name of a polity.\", # Hier\n",
    "    'section': \"General Variables\", # Hier\n",
    "    'subsection': \"General\", # Hier \n",
    "    },\n",
    "    {\n",
    "    'varname': 'polityalternativename',\n",
    "    'cols': 1,\n",
    "    'needsSeshatCommon': True,\n",
    "    'db_name': \"general\", # Hier\n",
    "    'main_desc': \"The alternative name of a polity.\", # Hier\n",
    "    'section': \"General Variables\", # Hier\n",
    "    'subsection': \"General\", # Hier \n",
    "    },\n",
    "    {\n",
    "    'varname': 'politypeakyears',\n",
    "    'cols': 2,\n",
    "    'needsSeshatCommon': True,\n",
    "    'db_name': \"general\", # Hier\n",
    "    'main_desc': \"The alternative name of a polity.\", # Hier\n",
    "    'section': \"General Variables\", # Hier\n",
    "    'subsection': \"General\", # Hier \n",
    "    },\n",
    "    {\n",
    "    'varname': 'polityduration',\n",
    "    'cols': 2,\n",
    "    'needsSeshatCommon': True,\n",
    "    'db_name': \"general\", # Hier\n",
    "    'main_desc': \"The alternative name of a polity.\", # Hier\n",
    "    'section': \"General Variables\", # Hier\n",
    "    'subsection': \"General\", # Hier \n",
    "    },\n",
    "    {\n",
    "    'varname': 'politydegreeofcentralization',\n",
    "    'cols': 1,\n",
    "    'needsSeshatCommon': True,\n",
    "    'db_name': \"general\", # Hier\n",
    "    'main_desc': \"The degree of centralization of a polity.\", # Hier\n",
    "    'section': \"General Variables\", # Hier\n",
    "    'subsection': \"General\", # Hier \n",
    "    },\n",
    "    {\n",
    "    'varname': 'politysuprapolityrelations',\n",
    "    'cols': 1,\n",
    "    'needsSeshatCommon': True,\n",
    "    'db_name': \"general\", # Hier\n",
    "    'main_desc': \"The supra polity relations of a polity.\", # Hier\n",
    "    'section': \"General Variables\", # Hier\n",
    "    'subsection': \"General\", # Hier \n",
    "    },\n",
    "    {\n",
    "    'varname': 'politycapital',\n",
    "    'cols': 1,\n",
    "    'needsSeshatCommon': True,\n",
    "    'db_name': \"general\", # Hier\n",
    "    'main_desc': \"The capital or the largest settlement of a polity.\", # Hier\n",
    "    'section': \"General Variables\", # Hier\n",
    "    'subsection': \"General\", # Hier \n",
    "    },\n",
    "    {\n",
    "    'varname': 'politylanguage',\n",
    "    'cols': 1,\n",
    "    'needsSeshatCommon': True,\n",
    "    'db_name': \"general\", # Hier\n",
    "    'main_desc': \"The language or the largest settlement of a polity.\", # Hier\n",
    "    'section': \"General Variables\", # Hier\n",
    "    'subsection': \"General\", # Hier \n",
    "    },\n",
    "    {\n",
    "    'varname': 'politylinguisticfamily',\n",
    "    'cols': 1,\n",
    "    'needsSeshatCommon': True,\n",
    "    'db_name': \"general\", # Hier\n",
    "    'main_desc': \"The linguistic family of a polity.\", # Hier\n",
    "    'section': \"General Variables\", # Hier\n",
    "    'subsection': \"General\", # Hier \n",
    "    },\n",
    "    {\n",
    "    'varname': 'politylanguagegenus',\n",
    "    'cols': 1,\n",
    "    'needsSeshatCommon': True,\n",
    "    'db_name': \"general\", # Hier\n",
    "    'main_desc': \"The language genus of a polity.\", # Hier\n",
    "    'section': \"General Variables\", # Hier\n",
    "    'subsection': \"General\", # Hier \n",
    "    },\n",
    "    {\n",
    "    'varname': 'polityreligiongenus',\n",
    "    'cols': 1,\n",
    "    'needsSeshatCommon': True,\n",
    "    'db_name': \"general\", # Hier\n",
    "    'main_desc': \"The religion genus of a polity.\", # Hier\n",
    "    'section': \"General Variables\", # Hier\n",
    "    'subsection': \"General\", # Hier \n",
    "    },\n",
    "    {\n",
    "    'varname': 'polityreligionfamily',\n",
    "    'cols': 1,\n",
    "    'needsSeshatCommon': True,\n",
    "    'db_name': \"general\", # Hier\n",
    "    'main_desc': \"The religion family of a polity.\", # Hier\n",
    "    'section': \"General Variables\", # Hier\n",
    "    'subsection': \"General\", # Hier \n",
    "    },\n",
    "    {\n",
    "    'varname': 'polityreligion',\n",
    "    'cols': 1,\n",
    "    'needsSeshatCommon': True,\n",
    "    'db_name': \"general\", # Hier\n",
    "    'main_desc': \"The religion of a polity.\", # Hier\n",
    "    'section': \"General Variables\", # Hier\n",
    "    'subsection': \"General\", # Hier \n",
    "    },\n",
    "    {\n",
    "    'varname': 'polityrelationshiptoprecedingentity',\n",
    "    'cols': 1,\n",
    "    'needsSeshatCommon': True,\n",
    "    'db_name': \"general\", # Hier\n",
    "    'main_desc': \"The polity relationship to preceding (quasi)polity\", # Hier\n",
    "    'section': \"General Variables\", # Hier\n",
    "    'subsection': \"General\", # Hier \n",
    "    },\n",
    "    {\n",
    "    'varname': 'polityprecedingentity',\n",
    "    'cols': 1,\n",
    "    'needsSeshatCommon': True,\n",
    "    'db_name': \"general\", # Hier\n",
    "    'main_desc': \"The preceding entity of a polity.\", # Hier\n",
    "    'section': \"General Variables\", # Hier\n",
    "    'subsection': \"General\", # Hier \n",
    "    },\n",
    "    {\n",
    "    'varname': 'politysucceedingentity',\n",
    "    'cols': 1,\n",
    "    'needsSeshatCommon': True,\n",
    "    'db_name': \"general\", # Hier\n",
    "    'main_desc': \"The succeeding entity of a polity.\", # Hier\n",
    "    'section': \"General Variables\", # Hier\n",
    "    'subsection': \"General\", # Hier \n",
    "    },\n",
    "    {\n",
    "    'varname': 'politysupraculturalentity',\n",
    "    'cols': 1,\n",
    "    'needsSeshatCommon': True,\n",
    "    'db_name': \"general\", # Hier\n",
    "    'main_desc': \"The supracultural entity of a polity.\", # Hier\n",
    "    'section': \"General Variables\", # Hier\n",
    "    'subsection': \"General\", # Hier \n",
    "    },\n",
    "    {\n",
    "    'varname': 'polityscaleofsupraculturalinteraction',\n",
    "    'cols': 2,\n",
    "    'needsSeshatCommon': True,\n",
    "    'db_name': \"general\", # Hier\n",
    "    'main_desc': \"The scale_of_supra_cultural_interaction of a polity.\", # Hier\n",
    "    'section': \"General Variables\", # Hier\n",
    "    'subsection': \"General\", # Hier \n",
    "    },\n",
    "    {\n",
    "    'varname': 'polityalternatereligiongenus',\n",
    "    'cols': 1,\n",
    "    'needsSeshatCommon': True,\n",
    "    'db_name': \"general\", # Hier\n",
    "    'main_desc': \"The alternate religion genus of a polity.\", # Hier\n",
    "    'section': \"General Variables\", # Hier\n",
    "    'subsection': \"General\", # Hier \n",
    "    },\n",
    "    {\n",
    "    'varname': 'polityalternatereligionfamily',\n",
    "    'cols': 1,\n",
    "    'needsSeshatCommon': True,\n",
    "    'db_name': \"general\", # Hier\n",
    "    'main_desc': \"The alternate religion family of a polity.\", # Hier\n",
    "    'section': \"General Variables\", # Hier\n",
    "    'subsection': \"General\", # Hier \n",
    "    },\n",
    "    {\n",
    "    'varname': 'polityalternatereligion',\n",
    "    'cols': 1,\n",
    "    'needsSeshatCommon': True,\n",
    "    'db_name': \"general\", # Hier\n",
    "    'main_desc': \"The alternate religion  of a polity.\", # Hier\n",
    "    'section': \"General Variables\", # Hier\n",
    "    'subsection': \"General\", # Hier \n",
    "    },\n",
    "    {\n",
    "    'varname': 'polityexpert',\n",
    "    'cols': 1,\n",
    "    'needsSeshatCommon': True,\n",
    "    'db_name': \"general\", # Hier\n",
    "    'main_desc': \"The expert of a polity.\", # Hier\n",
    "    'section': \"General Variables\", # Hier\n",
    "    'subsection': \"General\", # Hier \n",
    "    },\n",
    "    {\n",
    "    'varname': 'polityeditor',\n",
    "    'cols': 1,\n",
    "    'needsSeshatCommon': True,\n",
    "    'db_name': \"general\", # Hier\n",
    "    'main_desc': \"The editor of a polity.\", # Hier\n",
    "    'section': \"General Variables\", # Hier\n",
    "    'subsection': \"General\", # Hier \n",
    "    },\n",
    "    {\n",
    "    'varname': 'polityreligioustradition',\n",
    "    'cols': 1,\n",
    "    'needsSeshatCommon': True,\n",
    "    'db_name': \"general\", # Hier\n",
    "    'main_desc': \"The details of religious traditions.\", # Hier\n",
    "    'section': \"General Variables\", # Hier\n",
    "    'subsection': \"General\", # Hier \n",
    "    }\n",
    "]\n",
    "\n",
    "\n",
    "ALL_GENERAL_COLS_LIST =[\n",
    "{\n",
    "    'colname': \"polity_ra\",\n",
    "    'dtype': MYFOREIGN,\n",
    "    'varname': 'polityresearchassistant', # key\n",
    "    'col_exp': \"The RA of a polity.\",\n",
    "    'foreign_key': \"SeshatExpert\",\n",
    "    'foreign_key_related_name': \"seshat_research_assistant\",\n",
    "    },\n",
    "    {\n",
    "    'colname': \"utm_zone\",\n",
    "    'dtype': MYTXT,\n",
    "    'varname': 'polityutmzone', # key\n",
    "    'col_exp': \"The details of UTM_ZONE.\",\n",
    "    'max_digits': 5,\n",
    "    'null_meaning': \"No_Value_Provided_in_Old_Wiki\"\n",
    "    },\n",
    "    {\n",
    "    'colname': \"original_name\",\n",
    "    'dtype': MYTXT,\n",
    "    'varname': 'polityoriginalname', # key\n",
    "    'col_exp': \"The details of original_name.\",\n",
    "    'max_digits': 100,\n",
    "    'null_meaning': \"No_Value_Provided_in_Old_Wiki\"\n",
    "    },\n",
    "    {\n",
    "    'colname': \"alternative_name\",\n",
    "    'dtype': MYTXT,\n",
    "    'varname': 'polityalternativename', # key\n",
    "    'col_exp': \"The details of alternative_name.\",\n",
    "    'max_digits': 100,\n",
    "    'null_meaning': \"No_Value_Provided_in_Old_Wiki\"\n",
    "    },\n",
    "    {\n",
    "    'colname': \"peak_year_from\",\n",
    "    'dtype': MYINT,\n",
    "    'varname': 'politypeakyears', # key\n",
    "    'col_exp': \"The beginning of the peak year for a polity.\",\n",
    "    'null_meaning': \"No_Value_Provided_in_Old_Wiki\"\n",
    "    },\n",
    "    {\n",
    "    'colname': \"peak_year_to\",\n",
    "    'dtype': MYINT,\n",
    "    'varname': 'politypeakyears', # key\n",
    "    'col_exp':  \"The end of the peak year for a polity.\",\n",
    "    'null_meaning': \"No_Value_Provided_in_Old_Wiki\"\n",
    "    },\n",
    "    {\n",
    "    'colname': \"polity_year_from\",\n",
    "    'dtype': MYINT,\n",
    "    'varname': 'polityduration', # key\n",
    "    'col_exp': \"The beginning year for a polity.\",\n",
    "    'null_meaning': \"No_Value_Provided_in_Old_Wiki\"\n",
    "    },\n",
    "    {\n",
    "    'colname': \"polity_year_to\",\n",
    "    'dtype': MYINT,\n",
    "    'varname': 'polityduration', # key\n",
    "    'col_exp':  \"The end year for a polity.\",\n",
    "    'null_meaning': \"No_Value_Provided_in_Old_Wiki\"\n",
    "    },\n",
    "    {\n",
    "    'colname': \"degree_of_centralization\",\n",
    "    'dtype': MYTXT_CH,\n",
    "    'varname': 'politydegreeofcentralization', # key\n",
    "    'col_exp': \"The details of degree_of_centralization.\",\n",
    "    'max_digits': 50,\n",
    "    'choices': tuple_choices_maker_2(degree_of_centralization_CHOICES, \"degree_of_centralization\")[0],\n",
    "    'null_meaning': \"No_Value_Provided_in_Old_Wiki\"\n",
    "    },\n",
    "    {\n",
    "    'colname': \"supra_polity_relations\",\n",
    "    'dtype': MYTXT_CH,\n",
    "    'varname': 'politysuprapolityrelations', # key\n",
    "    'col_exp': \"The details of supra polity relations.\",\n",
    "    'max_digits': 50,\n",
    "    'choices': tuple_choices_maker_2(supra_polity_relations_CHOICES, \"supra_polity_relations\")[0],\n",
    "    'null_meaning': \"No_Value_Provided_in_Old_Wiki\"\n",
    "    },\n",
    "    {\n",
    "    'colname': \"capital\",\n",
    "    'dtype': MYTXT,\n",
    "    'varname': 'politycapital', # key\n",
    "    'col_exp': \"The capital or the largest settlement of a polity.\",\n",
    "    'max_digits': 70,\n",
    "    'null_meaning': \"This polity did not have a capital or the largest settlement.\"\n",
    "    },\n",
    "    {\n",
    "    'colname': \"language\",\n",
    "    'dtype': MYTXT_CH,\n",
    "    'varname': 'politylanguage', # key\n",
    "    'col_exp': \"The language of a polity.\",\n",
    "    'max_digits': 70,\n",
    "    'choices': tuple_choices_maker_2(language_CHOICES, \"language\")[0],\n",
    "    'null_meaning': \"This polity did not have a language.\"\n",
    "    },\n",
    "    {\n",
    "    'colname': \"linguistic_family\",\n",
    "    'dtype': MYTXT_CH,\n",
    "    'varname': 'politylinguisticfamily', # key\n",
    "    'col_exp': \"The linguistic family of a polity.\",\n",
    "    'max_digits': 70,\n",
    "    'choices': tuple_choices_maker_2(linguistic_family_CHOICES, \"linguistic_family\")[0],\n",
    "    'null_meaning': \"This polity did not have a linguistic family.\"\n",
    "    },\n",
    "    {\n",
    "    'colname': \"language_genus\",\n",
    "    'dtype': MYTXT_CH,\n",
    "    'varname': 'politylanguagegenus', # key\n",
    "    'col_exp': \"The language genus of a polity.\",\n",
    "    'max_digits': 70,\n",
    "    'choices': tuple_choices_maker_2(linguistic_family_CHOICES, \"linguistic_family\")[0],\n",
    "    'null_meaning': \"This polity did not have a language Genus.\"\n",
    "    },\n",
    "    {\n",
    "    'colname': \"religion_genus\",\n",
    "    'dtype': MYTXT_CH,\n",
    "    'varname': 'polityreligiongenus', # key\n",
    "    'col_exp': \"The religion genus of a polity.\",\n",
    "    'max_digits': 70,\n",
    "    'choices': tuple_choices_maker_2(religion_genus_CHOICES, \"religion_genus\")[0],\n",
    "    'null_meaning': \"This polity did not have a religion genus.\"\n",
    "    },\n",
    "    {\n",
    "    'colname': \"religion_family\",\n",
    "    'dtype': MYTXT_CH,\n",
    "    'varname': 'polityreligionfamily', # key\n",
    "    'col_exp': \"The religion family of a polity.\",\n",
    "    'max_digits': 70,\n",
    "    'choices': tuple_choices_maker_2(religion_family_CHOICES, \"religion_family\")[0],\n",
    "    'null_meaning': \"This polity did not have a religion family.\"\n",
    "    },\n",
    "    {\n",
    "    'colname': \"religion\",\n",
    "    'dtype': MYTXT_CH,\n",
    "    'varname': 'polityreligion', # key\n",
    "    'col_exp': \"The religion of a polity.\",\n",
    "    'max_digits': 70,\n",
    "    'choices': tuple_choices_maker_2(religion_CHOICES, \"religion\")[0],\n",
    "    'null_meaning': \"This polity did not have a religion.\"\n",
    "    },\n",
    "    {\n",
    "    'colname': \"relationship_to_preceding_entity\",\n",
    "    'dtype': MYTXT_CH,\n",
    "    'varname': 'polityrelationshiptoprecedingentity', # key\n",
    "    'col_exp': \"The polity relationship to preceding (quasi)polity\",\n",
    "    'max_digits': 70,\n",
    "    'choices': tuple_choices_maker_2(relationship_to_preceding_entity_CHOICES, \"relationship_to_preceding_entity\")[0],\n",
    "    'null_meaning': \"This polity did not have a relationship to preceding (quasi)polity\"\n",
    "    },\n",
    "    {\n",
    "    'colname': \"preceding_entity\",\n",
    "    'dtype': MYTXT,\n",
    "    'varname': 'polityprecedingentity', # key\n",
    "    'col_exp': \"The preceding entity or the largest settlement of a polity.\",\n",
    "    'max_digits': 70,\n",
    "    'null_meaning': \"This polity did not have a preceding entity.\"\n",
    "    },\n",
    "    {'colname': \"succeeding_entity\",\n",
    "    'dtype': MYTXT,\n",
    "    'varname': 'politysucceedingentity', # key\n",
    "    'col_exp': \"The succeeding entity or the largest settlement of a polity.\",\n",
    "    'max_digits': 70,\n",
    "    'null_meaning': \"This polity did not have a succeeding entity.\"\n",
    "    },\n",
    "    {\n",
    "    'colname': \"supracultural_entity\",\n",
    "    'dtype': MYTXT,\n",
    "    'varname': 'politysupraculturalentity', # key\n",
    "    'col_exp': \"The supracultural entity or the largest settlement of a polity.\",\n",
    "    'max_digits': 100,\n",
    "    'null_meaning': \"This polity did not have a supracultural entity.\"\n",
    "    },\n",
    "    {\n",
    "    'colname': \"scale_from\",\n",
    "    'dtype': MYINT,\n",
    "    'varname': 'polityscaleofsupraculturalinteraction', # key\n",
    "    'col_exp': \"The lower scale of supra cultural interactionfor a polity.\",\n",
    "    'units': \"km squared\",\n",
    "    'min': 0,\n",
    "    'null_meaning': \"No_Value_Provided_in_Old_Wiki\"\n",
    "    },\n",
    "    {\n",
    "    'colname': \"scale_to\",\n",
    "    'dtype': MYINT,\n",
    "    'varname': 'polityscaleofsupraculturalinteraction', # key\n",
    "    'col_exp':  \"The upper scale of supra cultural interactionfor a polity.\",\n",
    "    'units': \"km squared\",\n",
    "    'min': 0,\n",
    "    'null_meaning': \"No_Value_Provided_in_Old_Wiki\"\n",
    "    },\n",
    "    {\n",
    "    'colname': \"alternate_religion_genus\",\n",
    "    'dtype': MYTXT_CH,\n",
    "    'varname': 'polityalternatereligiongenus', # key\n",
    "    'col_exp': \"The alternate religion genus of a polity.\",\n",
    "    'max_digits': 70,\n",
    "    'choices': tuple_choices_maker_2(religion_genus_CHOICES, \"religion_genus\")[0],\n",
    "    'null_meaning': \"This polity did not have a alternatereligion genus.\"\n",
    "    },\n",
    "    {\n",
    "    'colname': \"alternate_religion_family\",\n",
    "    'dtype': MYTXT_CH,\n",
    "    'varname': 'polityalternatereligionfamily', # key\n",
    "    'col_exp': \"The alternate religion family of a polity.\",\n",
    "    'max_digits': 70,\n",
    "    'choices': tuple_choices_maker_2(religion_family_CHOICES, \"religion_family\")[0],\n",
    "    'null_meaning': \"This polity did not have a alternate religion family.\"\n",
    "    },\n",
    "    {\n",
    "    'colname': \"alternate_religion\",\n",
    "    'dtype': MYTXT_CH,\n",
    "    'varname': 'polityalternatereligion', # key\n",
    "    'col_exp': \"The alternate religion of a polity.\",\n",
    "    'max_digits': 70,\n",
    "    'choices': tuple_choices_maker_2(religion_CHOICES, \"religion\")[0],\n",
    "    'null_meaning': \"This polity did not have a alternate religion .\"\n",
    "    },\n",
    "    {\n",
    "    'colname': \"expert\",\n",
    "    'dtype': MYFOREIGN,\n",
    "    'varname': 'polityexpert', # key\n",
    "    'col_exp': \"The expert of a polity.\",\n",
    "    'foreign_key': \"SeshatExpert\",\n",
    "    'foreign_key_related_name': \"seshat_expert\",\n",
    "    'null_meaning': \"This polity did not have an expert.\"\n",
    "    },\n",
    "    {\n",
    "    'colname': \"editor\",\n",
    "    'dtype': MYFOREIGN,\n",
    "    'varname': 'polityeditor', # key\n",
    "    'col_exp': \"The editor of a polity.\",\n",
    "    'foreign_key': \"SeshatExpert\",\n",
    "    'foreign_key_related_name': \"seshat_editor\",\n",
    "    'null_meaning': \"This polity did not have an editor.\"\n",
    "    },\n",
    "    {\n",
    "    'colname': \"religious_tradition\",\n",
    "    'dtype': MYTXT,\n",
    "    'varname': 'polityreligioustradition', # key\n",
    "    'col_exp': \"The details of religious traditions.\",\n",
    "    'max_digits': 100,\n",
    "    'null_meaning': \"No_Value_Provided_in_Old_Wiki\"\n",
    "    }\n",
    "]\n"
   ]
  },
  {
   "cell_type": "code",
   "execution_count": null,
   "id": "exclusive-court",
   "metadata": {},
   "outputs": [],
   "source": []
  },
  {
   "cell_type": "code",
   "execution_count": null,
   "id": "liberal-explorer",
   "metadata": {},
   "outputs": [],
   "source": [
    "def var_col_dic_nmaker(ALL_GENERAL_VARS_LIST, ALL_GENERAL_COLS_LIST):\n",
    "    mother_dic = {}\n",
    "    for var_dic in ALL_GENERAL_VARS_LIST:\n",
    "        new_entries = []\n",
    "        for col_dic in ALL_GENERAL_COLS_LIST:\n",
    "            if var_dic[\"varname\"] == col_dic[\"varname\"] and col_dic[\"colname\"] not in new_entries:\n",
    "                new_entries.append(col_dic[\"colname\"])\n",
    "        mother_dic[var_dic[\"varname\"]] = new_entries\n",
    "    return mother_dic"
   ]
  },
  {
   "cell_type": "code",
   "execution_count": null,
   "id": "assisted-notion",
   "metadata": {},
   "outputs": [],
   "source": [
    "my_dic = var_col_dic_nmaker(ALL_GENERAL_VARS_LIST, ALL_GENERAL_COLS_LIST)"
   ]
  },
  {
   "cell_type": "code",
   "execution_count": null,
   "id": "cooked-robert",
   "metadata": {},
   "outputs": [],
   "source": [
    "my_dic"
   ]
  },
  {
   "cell_type": "code",
   "execution_count": null,
   "id": "alien-passage",
   "metadata": {},
   "outputs": [],
   "source": []
  },
  {
   "cell_type": "code",
   "execution_count": null,
   "id": "grave-alignment",
   "metadata": {},
   "outputs": [],
   "source": [
    "gen_var_mapper = {}\n",
    "for var_old in ultimate_dic.keys():\n",
    "    if var_old == 'peak_date':\n",
    "        gen_var_mapper[var_old] = 'politypeakyears'\n",
    "        continue\n",
    "    elif var_old == 'ra':\n",
    "        gen_var_mapper[var_old] = 'polityresearchassistant'\n",
    "        continue\n",
    "    elif var_old == 'alternative_names':\n",
    "        gen_var_mapper[var_old] = 'polityalternativename'\n",
    "        continue\n",
    "    elif var_old == 'succeeding_(quasi)polity':\n",
    "        gen_var_mapper[var_old] = 'politysucceedingentity'\n",
    "        continue\n",
    "    elif var_old == 'preceeding_(quasi)polity':\n",
    "        gen_var_mapper[var_old] = 'politypreceedingentity'\n",
    "        continue\n",
    "    var_new = \"polity\" + var_old.replace(\"_\", \"\").replace(\"(\", \"\").replace(\")\", \"\").replace(\"-\", \"\")\n",
    "    gen_var_mapper[var_old] = var_new"
   ]
  },
  {
   "cell_type": "code",
   "execution_count": null,
   "id": "hundred-anxiety",
   "metadata": {},
   "outputs": [],
   "source": [
    "ultimate_dic.keys()"
   ]
  },
  {
   "cell_type": "code",
   "execution_count": null,
   "id": "greatest-damage",
   "metadata": {},
   "outputs": [],
   "source": [
    "def get_all_users_experts(pretty_ultimate_dic_clean):\n",
    "    # CREATE the PeOLPE (USER and EXPERTS) tables:\n",
    "    expert_mapper = {}\n",
    "    for var_name, var_df in pretty_ultimate_dic_clean.items():\n",
    "        if var_name in [\"ra\", \"editor\", \"expert\"]: \n",
    "            for index, item in var_df[\"values_df\"].iterrows():\n",
    "                if item[1] not in expert_mapper:\n",
    "                    expert_mapper[item[2]] = index + 1\n",
    "    return expert_mapper\n",
    "\n",
    "a_mapping = get_all_users_experts(pretty_ultimate_dic)"
   ]
  },
  {
   "cell_type": "code",
   "execution_count": null,
   "id": "killing-tender",
   "metadata": {},
   "outputs": [],
   "source": [
    "a_mapping"
   ]
  },
  {
   "cell_type": "code",
   "execution_count": null,
   "id": "meaningful-attention",
   "metadata": {},
   "outputs": [],
   "source": [
    "a = \"ali\""
   ]
  },
  {
   "cell_type": "code",
   "execution_count": null,
   "id": "colonial-vitamin",
   "metadata": {},
   "outputs": [],
   "source": [
    "b = a.split(\" \")"
   ]
  },
  {
   "cell_type": "code",
   "execution_count": null,
   "id": "respective-underground",
   "metadata": {},
   "outputs": [],
   "source": [
    "\n",
    "ALL_GENERAL_VARS_LIST =[\n",
    "    {\n",
    "    'varname': 'polityresearchassistant',\n",
    "    'cols': 1,\n",
    "    'needsSeshatCommon': True,\n",
    "    'db_name': \"general\", # Hier\n",
    "    'main_desc': \"The RA(s) who worked on a polity.\", # Hier\n",
    "    'section': \"General Variables\", # Hier\n",
    "    'subsection': \"Staff\", # Hier \n",
    "    },\n",
    "    {\n",
    "    'varname': 'polityutmzone',\n",
    "    'cols': 1,\n",
    "    'needsSeshatCommon': True,\n",
    "    'db_name': \"general\", # Hier\n",
    "    'main_desc': \"The UTM Zone of a polity.\", # Hier\n",
    "    'section': \"General Variables\", # Hier\n",
    "    'subsection': \"General\", # Hier \n",
    "    },\n",
    "    {\n",
    "    'varname': 'polityoriginalname',\n",
    "    'cols': 1,\n",
    "    'needsSeshatCommon': True,\n",
    "    'db_name': \"general\", # Hier\n",
    "    'main_desc': \"The original name of a polity.\", # Hier\n",
    "    'section': \"General Variables\", # Hier\n",
    "    'subsection': \"General\", # Hier \n",
    "    },\n",
    "    {\n",
    "    'varname': 'polityalternativename',\n",
    "    'cols': 1,\n",
    "    'needsSeshatCommon': True,\n",
    "    'db_name': \"general\", # Hier\n",
    "    'main_desc': \"The alternative name of a polity.\", # Hier\n",
    "    'section': \"General Variables\", # Hier\n",
    "    'subsection': \"General\", # Hier \n",
    "    },\n",
    "    {\n",
    "    'varname': 'politypeakyears',\n",
    "    'cols': 2,\n",
    "    'needsSeshatCommon': True,\n",
    "    'db_name': \"general\", # Hier\n",
    "    'main_desc': \"The alternative name of a polity.\", # Hier\n",
    "    'section': \"General Variables\", # Hier\n",
    "    'subsection': \"General\", # Hier \n",
    "    },\n",
    "    {\n",
    "    'varname': 'polityduration',\n",
    "    'cols': 2,\n",
    "    'needsSeshatCommon': True,\n",
    "    'db_name': \"general\", # Hier\n",
    "    'main_desc': \"The alternative name of a polity.\", # Hier\n",
    "    'section': \"General Variables\", # Hier\n",
    "    'subsection': \"General\", # Hier \n",
    "    },\n",
    "    {\n",
    "    'varname': 'politydegreeofcentralization',\n",
    "    'cols': 1,\n",
    "    'needsSeshatCommon': True,\n",
    "    'db_name': \"general\", # Hier\n",
    "    'main_desc': \"The degree of centralization of a polity.\", # Hier\n",
    "    'section': \"General Variables\", # Hier\n",
    "    'subsection': \"General\", # Hier \n",
    "    },\n",
    "    {\n",
    "    'varname': 'politysuprapolityrelations',\n",
    "    'cols': 1,\n",
    "    'needsSeshatCommon': True,\n",
    "    'db_name': \"general\", # Hier\n",
    "    'main_desc': \"The supra polity relations of a polity.\", # Hier\n",
    "    'section': \"General Variables\", # Hier\n",
    "    'subsection': \"General\", # Hier \n",
    "    },\n",
    "    {\n",
    "    'varname': 'politycapital',\n",
    "    'cols': 1,\n",
    "    'needsSeshatCommon': True,\n",
    "    'db_name': \"general\", # Hier\n",
    "    'main_desc': \"The capital or the largest settlement of a polity.\", # Hier\n",
    "    'section': \"General Variables\", # Hier\n",
    "    'subsection': \"General\", # Hier \n",
    "    },\n",
    "    {\n",
    "    'varname': 'politylanguage',\n",
    "    'cols': 1,\n",
    "    'needsSeshatCommon': True,\n",
    "    'db_name': \"general\", # Hier\n",
    "    'main_desc': \"The language or the largest settlement of a polity.\", # Hier\n",
    "    'section': \"General Variables\", # Hier\n",
    "    'subsection': \"General\", # Hier \n",
    "    },\n",
    "    {\n",
    "    'varname': 'politylinguisticfamily',\n",
    "    'cols': 1,\n",
    "    'needsSeshatCommon': True,\n",
    "    'db_name': \"general\", # Hier\n",
    "    'main_desc': \"The linguistic family of a polity.\", # Hier\n",
    "    'section': \"General Variables\", # Hier\n",
    "    'subsection': \"General\", # Hier \n",
    "    },\n",
    "    {\n",
    "    'varname': 'politylanguagegenus',\n",
    "    'cols': 1,\n",
    "    'needsSeshatCommon': True,\n",
    "    'db_name': \"general\", # Hier\n",
    "    'main_desc': \"The language genus of a polity.\", # Hier\n",
    "    'section': \"General Variables\", # Hier\n",
    "    'subsection': \"General\", # Hier \n",
    "    },\n",
    "    {\n",
    "    'varname': 'polityreligiongenus',\n",
    "    'cols': 1,\n",
    "    'needsSeshatCommon': True,\n",
    "    'db_name': \"general\", # Hier\n",
    "    'main_desc': \"The religion genus of a polity.\", # Hier\n",
    "    'section': \"General Variables\", # Hier\n",
    "    'subsection': \"General\", # Hier \n",
    "    },\n",
    "    {\n",
    "    'varname': 'polityreligionfamily',\n",
    "    'cols': 1,\n",
    "    'needsSeshatCommon': True,\n",
    "    'db_name': \"general\", # Hier\n",
    "    'main_desc': \"The religion family of a polity.\", # Hier\n",
    "    'section': \"General Variables\", # Hier\n",
    "    'subsection': \"General\", # Hier \n",
    "    },\n",
    "    {\n",
    "    'varname': 'polityreligion',\n",
    "    'cols': 1,\n",
    "    'needsSeshatCommon': True,\n",
    "    'db_name': \"general\", # Hier\n",
    "    'main_desc': \"The religion of a polity.\", # Hier\n",
    "    'section': \"General Variables\", # Hier\n",
    "    'subsection': \"General\", # Hier \n",
    "    },\n",
    "    {\n",
    "    'varname': 'polityrelationshiptoprecedingentity',\n",
    "    'cols': 1,\n",
    "    'needsSeshatCommon': True,\n",
    "    'db_name': \"general\", # Hier\n",
    "    'main_desc': \"The polity relationship to preceding (quasi)polity\", # Hier\n",
    "    'section': \"General Variables\", # Hier\n",
    "    'subsection': \"General\", # Hier \n",
    "    },\n",
    "    {\n",
    "    'varname': 'polityprecedingentity',\n",
    "    'cols': 1,\n",
    "    'needsSeshatCommon': True,\n",
    "    'db_name': \"general\", # Hier\n",
    "    'main_desc': \"The preceding entity of a polity.\", # Hier\n",
    "    'section': \"General Variables\", # Hier\n",
    "    'subsection': \"General\", # Hier \n",
    "    },\n",
    "    {\n",
    "    'varname': 'politysucceedingentity',\n",
    "    'cols': 1,\n",
    "    'needsSeshatCommon': True,\n",
    "    'db_name': \"general\", # Hier\n",
    "    'main_desc': \"The succeeding entity of a polity.\", # Hier\n",
    "    'section': \"General Variables\", # Hier\n",
    "    'subsection': \"General\", # Hier \n",
    "    },\n",
    "    {\n",
    "    'varname': 'politysupraculturalentity',\n",
    "    'cols': 1,\n",
    "    'needsSeshatCommon': True,\n",
    "    'db_name': \"general\", # Hier\n",
    "    'main_desc': \"The supracultural entity of a polity.\", # Hier\n",
    "    'section': \"General Variables\", # Hier\n",
    "    'subsection': \"General\", # Hier \n",
    "    },\n",
    "    {\n",
    "    'varname': 'polityscaleofsupraculturalinteraction',\n",
    "    'cols': 2,\n",
    "    'needsSeshatCommon': True,\n",
    "    'db_name': \"general\", # Hier\n",
    "    'main_desc': \"The scale_of_supra_cultural_interaction of a polity.\", # Hier\n",
    "    'section': \"General Variables\", # Hier\n",
    "    'subsection': \"General\", # Hier \n",
    "    },\n",
    "    {\n",
    "    'varname': 'polityalternatereligiongenus',\n",
    "    'cols': 1,\n",
    "    'needsSeshatCommon': True,\n",
    "    'db_name': \"general\", # Hier\n",
    "    'main_desc': \"The alternate religion genus of a polity.\", # Hier\n",
    "    'section': \"General Variables\", # Hier\n",
    "    'subsection': \"General\", # Hier \n",
    "    },\n",
    "    {\n",
    "    'varname': 'polityalternatereligionfamily',\n",
    "    'cols': 1,\n",
    "    'needsSeshatCommon': True,\n",
    "    'db_name': \"general\", # Hier\n",
    "    'main_desc': \"The alternate religion family of a polity.\", # Hier\n",
    "    'section': \"General Variables\", # Hier\n",
    "    'subsection': \"General\", # Hier \n",
    "    },\n",
    "    {\n",
    "    'varname': 'polityalternatereligion',\n",
    "    'cols': 1,\n",
    "    'needsSeshatCommon': True,\n",
    "    'db_name': \"general\", # Hier\n",
    "    'main_desc': \"The alternate religion  of a polity.\", # Hier\n",
    "    'section': \"General Variables\", # Hier\n",
    "    'subsection': \"General\", # Hier \n",
    "    },\n",
    "    {\n",
    "    'varname': 'polityexpert',\n",
    "    'cols': 1,\n",
    "    'needsSeshatCommon': True,\n",
    "    'db_name': \"general\", # Hier\n",
    "    'main_desc': \"The expert of a polity.\", # Hier\n",
    "    'section': \"General Variables\", # Hier\n",
    "    'subsection': \"General\", # Hier \n",
    "    },\n",
    "    {\n",
    "    'varname': 'polityeditor',\n",
    "    'cols': 1,\n",
    "    'needsSeshatCommon': True,\n",
    "    'db_name': \"general\", # Hier\n",
    "    'main_desc': \"The editor of a polity.\", # Hier\n",
    "    'section': \"General Variables\", # Hier\n",
    "    'subsection': \"General\", # Hier \n",
    "    },\n",
    "    {\n",
    "    'varname': 'polityreligioustradition',\n",
    "    'cols': 1,\n",
    "    'needsSeshatCommon': True,\n",
    "    'db_name': \"general\", # Hier\n",
    "    'main_desc': \"The details of religious traditions.\", # Hier\n",
    "    'section': \"General Variables\", # Hier\n",
    "    'subsection': \"General\", # Hier \n",
    "    }\n",
    "]\n",
    "\n",
    "\n",
    "ALL_GENERAL_COLS_LIST =[\n",
    "{\n",
    "    'colname': \"polity_ra\",\n",
    "    'dtype': MYFOREIGN,\n",
    "    'varname': 'polityresearchassistant', # key\n",
    "    'col_exp': \"The RA of a polity.\",\n",
    "    'foreign_key': \"SeshatExpert\",\n",
    "    'foreign_key_related_name': \"seshat_research_assistant\",\n",
    "    },\n",
    "    {\n",
    "    'colname': \"utm_zone\",\n",
    "    'dtype': MYTXT,\n",
    "    'varname': 'polityutmzone', # key\n",
    "    'col_exp': \"The details of UTM_ZONE.\",\n",
    "    'max_digits': 5,\n",
    "    'null_meaning': \"No_Value_Provided_in_Old_Wiki\"\n",
    "    },\n",
    "    {\n",
    "    'colname': \"original_name\",\n",
    "    'dtype': MYTXT,\n",
    "    'varname': 'polityoriginalname', # key\n",
    "    'col_exp': \"The details of original_name.\",\n",
    "    'max_digits': 100,\n",
    "    'null_meaning': \"No_Value_Provided_in_Old_Wiki\"\n",
    "    },\n",
    "    {\n",
    "    'colname': \"alternative_name\",\n",
    "    'dtype': MYTXT,\n",
    "    'varname': 'polityalternativename', # key\n",
    "    'col_exp': \"The details of alternative_name.\",\n",
    "    'max_digits': 100,\n",
    "    'null_meaning': \"No_Value_Provided_in_Old_Wiki\"\n",
    "    },\n",
    "    {\n",
    "    'colname': \"peak_year_from\",\n",
    "    'dtype': MYINT,\n",
    "    'varname': 'politypeakyears', # key\n",
    "    'col_exp': \"The beginning of the peak year for a polity.\",\n",
    "    'null_meaning': \"No_Value_Provided_in_Old_Wiki\"\n",
    "    },\n",
    "    {\n",
    "    'colname': \"peak_year_to\",\n",
    "    'dtype': MYINT,\n",
    "    'varname': 'politypeakyears', # key\n",
    "    'col_exp':  \"The end of the peak year for a polity.\",\n",
    "    'null_meaning': \"No_Value_Provided_in_Old_Wiki\"\n",
    "    },\n",
    "    {\n",
    "    'colname': \"polity_year_from\",\n",
    "    'dtype': MYINT,\n",
    "    'varname': 'polityduration', # key\n",
    "    'col_exp': \"The beginning year for a polity.\",\n",
    "    'null_meaning': \"No_Value_Provided_in_Old_Wiki\"\n",
    "    },\n",
    "    {\n",
    "    'colname': \"polity_year_to\",\n",
    "    'dtype': MYINT,\n",
    "    'varname': 'polityduration', # key\n",
    "    'col_exp':  \"The end year for a polity.\",\n",
    "    'null_meaning': \"No_Value_Provided_in_Old_Wiki\"\n",
    "    },\n",
    "    {\n",
    "    'colname': \"degree_of_centralization\",\n",
    "    'dtype': MYTXT_CH,\n",
    "    'varname': 'politydegreeofcentralization', # key\n",
    "    'col_exp': \"The details of degree_of_centralization.\",\n",
    "    'max_digits': 50,\n",
    "    'choices': tuple_choices_maker_2(degree_of_centralization_CHOICES, \"degree_of_centralization\")[0],\n",
    "    'null_meaning': \"No_Value_Provided_in_Old_Wiki\"\n",
    "    },\n",
    "    {\n",
    "    'colname': \"supra_polity_relations\",\n",
    "    'dtype': MYTXT_CH,\n",
    "    'varname': 'politysuprapolityrelations', # key\n",
    "    'col_exp': \"The details of supra polity relations.\",\n",
    "    'max_digits': 50,\n",
    "    'choices': tuple_choices_maker_2(supra_polity_relations_CHOICES, \"supra_polity_relations\")[0],\n",
    "    'null_meaning': \"No_Value_Provided_in_Old_Wiki\"\n",
    "    },\n",
    "    {\n",
    "    'colname': \"capital\",\n",
    "    'dtype': MYTXT,\n",
    "    'varname': 'politycapital', # key\n",
    "    'col_exp': \"The capital or the largest settlement of a polity.\",\n",
    "    'max_digits': 70,\n",
    "    'null_meaning': \"This polity did not have a capital or the largest settlement.\"\n",
    "    },\n",
    "    {\n",
    "    'colname': \"language\",\n",
    "    'dtype': MYTXT_CH,\n",
    "    'varname': 'politylanguage', # key\n",
    "    'col_exp': \"The language of a polity.\",\n",
    "    'max_digits': 70,\n",
    "    'choices': tuple_choices_maker_2(language_CHOICES, \"language\")[0],\n",
    "    'null_meaning': \"This polity did not have a language.\"\n",
    "    },\n",
    "    {\n",
    "    'colname': \"linguistic_family\",\n",
    "    'dtype': MYTXT_CH,\n",
    "    'varname': 'politylinguisticfamily', # key\n",
    "    'col_exp': \"The linguistic family of a polity.\",\n",
    "    'max_digits': 70,\n",
    "    'choices': tuple_choices_maker_2(linguistic_family_CHOICES, \"linguistic_family\")[0],\n",
    "    'null_meaning': \"This polity did not have a linguistic family.\"\n",
    "    },\n",
    "    {\n",
    "    'colname': \"language_genus\",\n",
    "    'dtype': MYTXT_CH,\n",
    "    'varname': 'politylanguagegenus', # key\n",
    "    'col_exp': \"The language genus of a polity.\",\n",
    "    'max_digits': 70,\n",
    "    'choices': tuple_choices_maker_2(linguistic_family_CHOICES, \"linguistic_family\")[0],\n",
    "    'null_meaning': \"This polity did not have a language Genus.\"\n",
    "    },\n",
    "    {\n",
    "    'colname': \"religion_genus\",\n",
    "    'dtype': MYTXT_CH,\n",
    "    'varname': 'polityreligiongenus', # key\n",
    "    'col_exp': \"The religion genus of a polity.\",\n",
    "    'max_digits': 70,\n",
    "    'choices': tuple_choices_maker_2(religion_genus_CHOICES, \"religion_genus\")[0],\n",
    "    'null_meaning': \"This polity did not have a religion genus.\"\n",
    "    },\n",
    "    {\n",
    "    'colname': \"religion_family\",\n",
    "    'dtype': MYTXT_CH,\n",
    "    'varname': 'polityreligionfamily', # key\n",
    "    'col_exp': \"The religion family of a polity.\",\n",
    "    'max_digits': 70,\n",
    "    'choices': tuple_choices_maker_2(religion_family_CHOICES, \"religion_family\")[0],\n",
    "    'null_meaning': \"This polity did not have a religion family.\"\n",
    "    },\n",
    "    {\n",
    "    'colname': \"religion\",\n",
    "    'dtype': MYTXT_CH,\n",
    "    'varname': 'polityreligion', # key\n",
    "    'col_exp': \"The religion of a polity.\",\n",
    "    'max_digits': 70,\n",
    "    'choices': tuple_choices_maker_2(religion_CHOICES, \"religion\")[0],\n",
    "    'null_meaning': \"This polity did not have a religion.\"\n",
    "    },\n",
    "    {\n",
    "    'colname': \"relationship_to_preceding_entity\",\n",
    "    'dtype': MYTXT_CH,\n",
    "    'varname': 'polityrelationshiptoprecedingentity', # key\n",
    "    'col_exp': \"The polity relationship to preceding (quasi)polity\",\n",
    "    'max_digits': 70,\n",
    "    'choices': tuple_choices_maker_2(relationship_to_preceding_entity_CHOICES, \"relationship_to_preceding_entity\")[0],\n",
    "    'null_meaning': \"This polity did not have a relationship to preceding (quasi)polity\"\n",
    "    },\n",
    "    {\n",
    "    'colname': \"preceding_entity\",\n",
    "    'dtype': MYTXT,\n",
    "    'varname': 'polityprecedingentity', # key\n",
    "    'col_exp': \"The preceding entity or the largest settlement of a polity.\",\n",
    "    'max_digits': 70,\n",
    "    'null_meaning': \"This polity did not have a preceding entity.\"\n",
    "    },\n",
    "    {'colname': \"succeeding_entity\",\n",
    "    'dtype': MYTXT,\n",
    "    'varname': 'politysucceedingentity', # key\n",
    "    'col_exp': \"The succeeding entity or the largest settlement of a polity.\",\n",
    "    'max_digits': 70,\n",
    "    'null_meaning': \"This polity did not have a succeeding entity.\"\n",
    "    },\n",
    "    {\n",
    "    'colname': \"supracultural_entity\",\n",
    "    'dtype': MYTXT,\n",
    "    'varname': 'politysupraculturalentity', # key\n",
    "    'col_exp': \"The supracultural entity or the largest settlement of a polity.\",\n",
    "    'max_digits': 100,\n",
    "    'null_meaning': \"This polity did not have a supracultural entity.\"\n",
    "    },\n",
    "    {\n",
    "    'colname': \"scale_from\",\n",
    "    'dtype': MYINT,\n",
    "    'varname': 'polityscaleofsupraculturalinteraction', # key\n",
    "    'col_exp': \"The lower scale of supra cultural interactionfor a polity.\",\n",
    "    'units': \"km squared\",\n",
    "    'min': 0,\n",
    "    'null_meaning': \"No_Value_Provided_in_Old_Wiki\"\n",
    "    },\n",
    "    {\n",
    "    'colname': \"scale_to\",\n",
    "    'dtype': MYINT,\n",
    "    'varname': 'polityscaleofsupraculturalinteraction', # key\n",
    "    'col_exp':  \"The upper scale of supra cultural interactionfor a polity.\",\n",
    "    'units': \"km squared\",\n",
    "    'min': 0,\n",
    "    'null_meaning': \"No_Value_Provided_in_Old_Wiki\"\n",
    "    },\n",
    "    {\n",
    "    'colname': \"alternate_religion_genus\",\n",
    "    'dtype': MYTXT_CH,\n",
    "    'varname': 'polityalternatereligiongenus', # key\n",
    "    'col_exp': \"The alternate religion genus of a polity.\",\n",
    "    'max_digits': 70,\n",
    "    'choices': tuple_choices_maker_2(religion_genus_CHOICES, \"religion_genus\")[0],\n",
    "    'null_meaning': \"This polity did not have a alternatereligion genus.\"\n",
    "    },\n",
    "    {\n",
    "    'colname': \"alternate_religion_family\",\n",
    "    'dtype': MYTXT_CH,\n",
    "    'varname': 'polityalternatereligionfamily', # key\n",
    "    'col_exp': \"The alternate religion family of a polity.\",\n",
    "    'max_digits': 70,\n",
    "    'choices': tuple_choices_maker_2(religion_family_CHOICES, \"religion_family\")[0],\n",
    "    'null_meaning': \"This polity did not have a alternate religion family.\"\n",
    "    },\n",
    "    {\n",
    "    'colname': \"alternate_religion\",\n",
    "    'dtype': MYTXT_CH,\n",
    "    'varname': 'polityalternatereligion', # key\n",
    "    'col_exp': \"The alternate religion of a polity.\",\n",
    "    'max_digits': 70,\n",
    "    'choices': tuple_choices_maker_2(religion_CHOICES, \"religion\")[0],\n",
    "    'null_meaning': \"This polity did not have a alternate religion .\"\n",
    "    },\n",
    "    {\n",
    "    'colname': \"expert\",\n",
    "    'dtype': MYFOREIGN,\n",
    "    'varname': 'polityexpert', # key\n",
    "    'col_exp': \"The expert of a polity.\",\n",
    "    'foreign_key': \"SeshatExpert\",\n",
    "    'foreign_key_related_name': \"seshat_expert\",\n",
    "    'null_meaning': \"This polity did not have an expert.\"\n",
    "    },\n",
    "    {\n",
    "    'colname': \"editor\",\n",
    "    'dtype': MYFOREIGN,\n",
    "    'varname': 'polityeditor', # key\n",
    "    'col_exp': \"The editor of a polity.\",\n",
    "    'foreign_key': \"SeshatExpert\",\n",
    "    'foreign_key_related_name': \"seshat_editor\",\n",
    "    'null_meaning': \"This polity did not have an editor.\"\n",
    "    },\n",
    "    {\n",
    "    'colname': \"religious_tradition\",\n",
    "    'dtype': MYTXT,\n",
    "    'varname': 'polityreligioustradition', # key\n",
    "    'col_exp': \"The details of religious traditions.\",\n",
    "    'max_digits': 100,\n",
    "    'null_meaning': \"No_Value_Provided_in_Old_Wiki\"\n",
    "    }\n",
    "]\n"
   ]
  },
  {
   "cell_type": "code",
   "execution_count": null,
   "id": "civilian-chemistry",
   "metadata": {},
   "outputs": [],
   "source": [
    "def convert_two_python_dics_to_python_vars_dic(list_of_dic_vars, list_of_dic_cols, my_db_name=\"general\"):\n",
    "    vars_dic_output = {}\n",
    "    for v_name in list_of_dic_vars:\n",
    "        # create a ,ain_ dic with all the avialable var items:\n",
    "        v_top_dic = {}\n",
    "        col_counter = 1\n",
    "        for v_top_key, v_top_val in v_name.items():\n",
    "            v_top_dic[v_top_key] = v_top_val\n",
    "        for c_name in list_of_dic_cols:\n",
    "            if v_name[\"varname\"] == c_name[\"varname\"]:\n",
    "                good_key = \"col\" + str(col_counter)\n",
    "                v_top_dic[good_key] = c_name\n",
    "                col_counter = col_counter + 1\n",
    "        vars_dic_output[v_name[\"varname\"]] = v_top_dic\n",
    "\n",
    "    return vars_dic_output"
   ]
  },
  {
   "cell_type": "code",
   "execution_count": null,
   "id": "continued-maple",
   "metadata": {},
   "outputs": [],
   "source": [
    "aaaaaa = convert_two_python_dics_to_python_vars_dic(ALL_GENERAL_VARS_LIST, ALL_GENERAL_COLS_LIST)"
   ]
  },
  {
   "cell_type": "code",
   "execution_count": null,
   "id": "speaking-license",
   "metadata": {
    "scrolled": true
   },
   "outputs": [],
   "source": [
    "input_str = \"5,677\"\n",
    "a_str = \":\"\n",
    "stripped_str = input_str.replace(\",\", \"\").strip()\n",
    "my_catches = re.findall(fr'[\\[]{{0,1}}[ ]{{0,1}}(\\d+)[ ]{{0,1}}[-|_| ]{{0,1}}[ ]{{0,1}}([\\d+]*)[ ]{{0,1}}[\\]]{{0,1}}[ ]{{0,1}}[{a_str}]{{0,1}}(.*)', stripped_str)"
   ]
  },
  {
   "cell_type": "markdown",
   "id": "liquid-olive",
   "metadata": {},
   "source": [
    "----"
   ]
  },
  {
   "cell_type": "markdown",
   "id": "dried-tribune",
   "metadata": {},
   "source": [
    "# TODO:\n",
    "\n",
    "- start from `ultimate_dic_without_duplicates_BACKUP_FRIDAY_JAN_6th` and make sure that all the zoteroID keys have a list of several items as the value.\n",
    "- make sure that all the zoteros chosen are proper ones: for example check if the author is too short or if the author does not fit our chosen text\n",
    "- then get all the refs that are still to get a proper zoter and see if you can improve the code to find more zoteros for the remianing ones.\n",
    "- If the above is not fruitful, start making a final dictionary with the extra values out and the real meat (zotero codes + key, etc) in. "
   ]
  },
  {
   "cell_type": "code",
   "execution_count": 2,
   "id": "flexible-strand",
   "metadata": {},
   "outputs": [
    {
     "name": "stderr",
     "output_type": "stream",
     "text": [
      "/usr/lib/python3/dist-packages/requests/__init__.py:89: RequestsDependencyWarning: urllib3 (1.26.7) or chardet (3.0.4) doesn't match a supported version!\n",
      "  warnings.warn(\"urllib3 ({}) or chardet ({}) doesn't match a supported \"\n"
     ]
    }
   ],
   "source": [
    "from main_scraper import *\n",
    "from z_helpers import *\n",
    "import time"
   ]
  },
  {
   "cell_type": "code",
   "execution_count": null,
   "id": "intended-rugby",
   "metadata": {},
   "outputs": [],
   "source": []
  },
  {
   "cell_type": "code",
   "execution_count": null,
   "id": "subsequent-builder",
   "metadata": {},
   "outputs": [],
   "source": [
    "#all_unique_refs_with_reps = ultimate_ref_dic_maker_duplicate_finder()"
   ]
  },
  {
   "cell_type": "code",
   "execution_count": null,
   "id": "emotional-policy",
   "metadata": {
    "scrolled": true
   },
   "outputs": [],
   "source": [
    "start_time = time.time()\n",
    "\n",
    "#my_ult_ref_dic, my_ult_meta_data = ultimate_ref_dic_maker(\"mother_dic_for_refs.json\")\n",
    "my_ult_ref_dic, my_ult_metadata = ultimate_ref_dic_maker_plus(\"mother_dic_with_duplicates.json\")\n",
    "\n",
    "print(\"--- %s seconds ---\" % (time.time() - start_time))"
   ]
  },
  {
   "cell_type": "code",
   "execution_count": null,
   "id": "solved-gentleman",
   "metadata": {},
   "outputs": [],
   "source": [
    "my_ult_metadata"
   ]
  },
  {
   "cell_type": "code",
   "execution_count": null,
   "id": "empty-channels",
   "metadata": {},
   "outputs": [],
   "source": []
  },
  {
   "cell_type": "code",
   "execution_count": null,
   "id": "approved-motel",
   "metadata": {},
   "outputs": [],
   "source": [
    "# this creates a new trimmed dic that needs to be merged with an ultimate dic:\n",
    "go_find_zoteros(\"ultimate_dic_without_duplicates.json\")"
   ]
  },
  {
   "cell_type": "code",
   "execution_count": null,
   "id": "mechanical-champion",
   "metadata": {},
   "outputs": [],
   "source": [
    "x, meta_x = merge_trimmed_data_and_create_a_new_ultimate_dic(\"trimmed_dic_UPDATED_to_be_merged.json\", \"ultimate_dic_without_duplicates.json\")"
   ]
  },
  {
   "cell_type": "code",
   "execution_count": null,
   "id": "structured-colon",
   "metadata": {},
   "outputs": [],
   "source": [
    "meta_x"
   ]
  },
  {
   "cell_type": "code",
   "execution_count": null,
   "id": "nearby-listening",
   "metadata": {},
   "outputs": [],
   "source": []
  },
  {
   "cell_type": "code",
   "execution_count": 3,
   "id": "removed-miller",
   "metadata": {},
   "outputs": [
    {
     "name": "stdout",
     "output_type": "stream",
     "text": [
      "No of matches so far: 1\n",
      "No of matches so far: 101\n",
      "No of matches so far: 201\n",
      "No of matches so far: 301\n",
      "No of matches so far: 401\n",
      "No of matches so far: 501\n",
      "No of matches so far: 601\n",
      "No of matches so far: 701\n",
      "No of matches so far: 801\n",
      "No of matches so far: 901\n",
      "No of matches so far: 1001\n",
      "No of matches so far: 1101\n",
      "No of matches so far: 1201\n",
      "No of matches so far: 1301\n",
      "No of matches so far: 1401\n",
      "No of matches so far: 1501\n",
      "No of matches so far: 1601\n",
      "No of matches so far: 1701\n",
      "No of matches so far: 1801\n",
      "No of matches so far: 1901\n",
      "No of matches so far: 2001\n",
      "No of matches so far: 2101\n",
      "No of matches so far: 2201\n",
      "No of matches so far: 2301\n",
      "No of matches so far: 2401\n",
      "No of matches so far: 2501\n",
      "No of matches so far: 2601\n",
      "No of matches so far: 2701\n",
      "No of matches so far: 2801\n",
      "No of matches so far: 2901\n",
      "No of matches so far: 3001\n",
      "No of matches so far: 3101\n",
      "No of matches so far: 3201\n",
      "No of matches so far: 3301\n",
      "No of matches so far: 3401\n",
      "No of matches so far: 3501\n",
      "No of matches so far: 3601\n",
      "No of matches so far: 3701\n",
      "No of matches so far: 3801\n",
      "No of matches so far: 3901\n",
      "No of matches so far: 4001\n",
      "No of matches so far: 4101\n",
      "No of matches so far: 4201\n",
      "No of matches so far: 4301\n",
      "No of matches so far: 4401\n",
      "No of matches so far: 4501\n",
      "No of matches so far: 4601\n",
      "No of matches so far: 4701\n",
      "No of matches so far: 4801\n",
      "No of matches so far: 4901\n",
      "No of matches so far: 5001\n",
      "No of matches so far: 5101\n",
      "No of matches so far: 5201\n",
      "No of matches so far: 5301\n",
      "No of matches so far: 5401\n",
      "No of matches so far: 5501\n",
      "No of matches so far: 5601\n",
      "No of matches so far: 5701\n",
      "No of matches so far: 5801\n",
      "No of matches so far: 5901\n",
      "No of matches so far: 6001\n",
      "No of matches so far: 6101\n",
      "No of matches so far: 6201\n",
      "No of matches so far: 6301\n",
      "No of matches so far: 6401\n",
      "No of matches so far: 6501\n",
      "No of matches so far: 6601\n",
      "No of matches so far: 6701\n",
      "No of matches so far: 6801\n",
      "No of matches so far: 6901\n",
      "No of matches so far: 7001\n",
      "No of matches so far: 7101\n",
      "No of matches so far: 7201\n",
      "No of matches so far: 7301\n",
      "No of matches so far: 7401\n",
      "No of matches so far: 7501\n",
      "No of matches so far: 7601\n",
      "No of matches so far: 7701\n",
      "No of matches so far: 7801\n",
      "No of matches so far: 7901\n",
      "No of matches so far: 8001\n",
      "No of matches so far: 8101\n",
      "No of matches so far: 8201\n",
      "No of matches so far: 8301\n",
      "No of matches so far: 8401\n",
      "No of matches so far: 8501\n",
      "No of matches so far: 8601\n",
      "No of matches so far: 8701\n",
      "No of matches so far: 8801\n",
      "No of matches so far: 8901\n",
      "No of matches so far: 9001\n",
      "No of matches so far: 9101\n",
      "No of matches so far: 9201\n",
      "No of matches so far: 9301\n",
      "No of matches so far: 9401\n",
      "No of matches so far: 9501\n",
      "No of matches so far: 9601\n",
      "No of matches so far: 9701\n",
      "No of matches so far: 9801\n",
      "No of matches so far: 9901\n",
      "No of matches so far: 10001\n",
      "No of matches so far: 10101\n",
      "No of matches so far: 10201\n",
      "No of matches so far: 10301\n",
      "No of matches so far: 10401\n",
      "No of matches so far: 10501\n",
      "No of matches so far: 10601\n",
      "No of matches so far: 10701\n",
      "No of matches so far: 10801\n",
      "No of matches so far: 10901\n",
      "No of matches so far: 11001\n",
      "No of matches so far: 11101\n",
      "No of matches so far: 11201\n",
      "No of matches so far: 11301\n",
      "No of matches so far: 11401\n",
      "No of matches so far: 11501\n",
      "No of matches so far: 11601\n",
      "No of matches so far: 11701\n",
      "No of matches so far: 11801\n",
      "No of matches so far: 11901\n",
      "No of matches so far: 12001\n",
      "No of matches so far: 12101\n",
      "No of matches so far: 12201\n",
      "No of matches so far: 12301\n",
      "No of matches so far: 12401\n",
      "No of matches so far: 12501\n",
      "No of matches so far: 12601\n",
      "No of matches so far: 12701\n",
      "No of matches so far: 12801\n",
      "No of matches so far: 12901\n",
      "No of matches so far: 13001\n",
      "No of matches so far: 13101\n",
      "No of matches so far: 13201\n",
      "No of matches so far: 13301\n",
      "No of matches so far: 13401\n",
      "No of matches so far: 13501\n",
      "No of matches so far: 13601\n",
      "No of matches so far: 13701\n",
      "No of matches so far: 13801\n",
      "No of matches so far: 13901\n",
      "No of matches so far: 14001\n",
      "No of matches so far: 14101\n",
      "No of matches so far: 14201\n",
      "No of matches so far: 14301\n",
      "No of matches so far: 14401\n",
      "No of matches so far: 14501\n",
      "No of matches so far: 14601\n",
      "No of matches so far: 14701\n",
      "No of matches so far: 14801\n",
      "No of matches so far: 14901\n",
      "No of matches so far: 15001\n"
     ]
    }
   ],
   "source": [
    "# second round\n",
    "go_find_zoteros_round_2(\"ultimate_dic_without_duplicates.json\")"
   ]
  },
  {
   "cell_type": "code",
   "execution_count": 4,
   "id": "careful-spray",
   "metadata": {},
   "outputs": [],
   "source": [
    "x, meta_x = merge_trimmed_data_and_create_a_new_ultimate_dic(\"trimmed_dic_UPDATED_to_be_merged.json\", \"ultimate_dic_without_duplicates.json\")"
   ]
  },
  {
   "cell_type": "code",
   "execution_count": 5,
   "id": "anonymous-asthma",
   "metadata": {
    "scrolled": true
   },
   "outputs": [
    {
     "data": {
      "text/plain": [
       "{'No_of_Unique_Refs': 28732,\n",
       " 'No_of_Unique_trimmed_Refs': 17245,\n",
       " 'No_of_Unique_trimmed_Refs_needing_work': 8220}"
      ]
     },
     "execution_count": 5,
     "metadata": {},
     "output_type": "execute_result"
    }
   ],
   "source": [
    "meta_x"
   ]
  },
  {
   "cell_type": "code",
   "execution_count": 6,
   "id": "gorgeous-washington",
   "metadata": {},
   "outputs": [
    {
     "name": "stdout",
     "output_type": "stream",
     "text": [
      "No of matches so far: 1\n",
      "No of matches so far: 101\n",
      "No of matches so far: 201\n",
      "No of matches so far: 301\n",
      "No of matches so far: 401\n",
      "No of matches so far: 501\n"
     ]
    }
   ],
   "source": [
    "go_find_zoteros_round_3(\"ultimate_dic_without_duplicates.json\")"
   ]
  },
  {
   "cell_type": "code",
   "execution_count": 7,
   "id": "recovered-tribune",
   "metadata": {},
   "outputs": [],
   "source": [
    "x, meta_x = merge_trimmed_data_and_create_a_new_ultimate_dic(\"trimmed_dic_UPDATED_to_be_merged.json\", \"ultimate_dic_without_duplicates.json\")"
   ]
  },
  {
   "cell_type": "code",
   "execution_count": 8,
   "id": "victorian-martin",
   "metadata": {},
   "outputs": [
    {
     "data": {
      "text/plain": [
       "{'No_of_Unique_Refs': 28732,\n",
       " 'No_of_Unique_trimmed_Refs': 17245,\n",
       " 'No_of_Unique_trimmed_Refs_needing_work': 7833}"
      ]
     },
     "execution_count": 8,
     "metadata": {},
     "output_type": "execute_result"
    }
   ],
   "source": [
    "meta_x"
   ]
  },
  {
   "cell_type": "code",
   "execution_count": 9,
   "id": "retained-priest",
   "metadata": {},
   "outputs": [
    {
     "data": {
      "text/plain": [
       "{'hasVisibleZotero': False,\n",
       " 'hasPersonalComment': False,\n",
       " 'hasVisiblePages': True,\n",
       " 'originalText': 'Lapidus 2002, p. 82, p. 215',\n",
       " 'trimmedText': 'Lapidus 2002,, p. 215',\n",
       " 'trimmedTextPLUS': 'Lapidus 2002 p 215',\n",
       " 'zoteroID': [['5HAADQHE', 'GM2CNW2S']],\n",
       " 'page_from': '82',\n",
       " 'page_to': '82'}"
      ]
     },
     "execution_count": 9,
     "metadata": {},
     "output_type": "execute_result"
    }
   ],
   "source": [
    "x[\"MAJIDBENAM_REF_24_AfDurrn\"]"
   ]
  },
  {
   "cell_type": "code",
   "execution_count": null,
   "id": "recorded-patent",
   "metadata": {},
   "outputs": [],
   "source": []
  },
  {
   "cell_type": "code",
   "execution_count": null,
   "id": "atmospheric-swedish",
   "metadata": {},
   "outputs": [],
   "source": [
    "unique_trimmed_refs_needing_work = []\n",
    "for kk, vv in x.items():\n",
    "    if not vv[\"zoteroID\"] and not vv[\"hasPersonalComment\"] and vv[\"trimmedText\"] and vv[\"trimmedText\"] not in unique_trimmed_refs_needing_work:\n",
    "        unique_trimmed_refs_needing_work.append(vv[\"trimmedText\"])"
   ]
  },
  {
   "cell_type": "code",
   "execution_count": null,
   "id": "ranking-logistics",
   "metadata": {},
   "outputs": [],
   "source": [
    "len(unique_trimmed_refs_needing_work)"
   ]
  },
  {
   "cell_type": "code",
   "execution_count": null,
   "id": "inappropriate-celebrity",
   "metadata": {},
   "outputs": [],
   "source": [
    "for i in unique_trimmed_refs_needing_work[:12]:\n",
    "    print(i)\n",
    "    print(\"______\")\n"
   ]
  },
  {
   "cell_type": "code",
   "execution_count": null,
   "id": "personal-overall",
   "metadata": {},
   "outputs": [],
   "source": [
    "\"\"\"\n",
    "ROUND 1:\n",
    "{'No_of_Unique_Refs': 28732,\n",
    " 'No_of_Unique_trimmed_Refs': 17245,\n",
    " 'No_of_Unique_trimmed_Refs_needing_work': 11170}\n",
    "\"\"\""
   ]
  },
  {
   "cell_type": "code",
   "execution_count": null,
   "id": "peaceful-oklahoma",
   "metadata": {},
   "outputs": [],
   "source": []
  },
  {
   "cell_type": "code",
   "execution_count": null,
   "id": "handed-petite",
   "metadata": {},
   "outputs": [],
   "source": []
  },
  {
   "cell_type": "code",
   "execution_count": null,
   "id": "lovely-apple",
   "metadata": {},
   "outputs": [],
   "source": [
    "import pprint\n",
    "bad_boys = []\n",
    "for k, v in x.items():\n",
    "    if not v.get(\"zoteroID\"):\n",
    "        bad_boys.append(v)\n",
    "        if len(bad_boys) >= 10:\n",
    "            break"
   ]
  },
  {
   "cell_type": "code",
   "execution_count": null,
   "id": "selective-quebec",
   "metadata": {},
   "outputs": [],
   "source": [
    "bad_boys[7]"
   ]
  },
  {
   "cell_type": "code",
   "execution_count": null,
   "id": "unique-perry",
   "metadata": {},
   "outputs": [],
   "source": [
    "x['MAJIDBENAM_REF_1_AfDurrn']"
   ]
  },
  {
   "cell_type": "code",
   "execution_count": null,
   "id": "fleet-abortion",
   "metadata": {},
   "outputs": [],
   "source": []
  },
  {
   "cell_type": "code",
   "execution_count": null,
   "id": "familiar-forestry",
   "metadata": {},
   "outputs": [],
   "source": [
    "my_ult_metadata"
   ]
  },
  {
   "cell_type": "code",
   "execution_count": 10,
   "id": "solved-midnight",
   "metadata": {},
   "outputs": [],
   "source": [
    "with open(\"ultimate_dic_without_duplicates_BACKUP_FRIDAY_JAN_6th.json\") as my_f:\n",
    "    friday_data = json.load(my_f)\n"
   ]
  },
  {
   "cell_type": "code",
   "execution_count": 34,
   "id": "declared-nation",
   "metadata": {},
   "outputs": [
    {
     "ename": "TypeError",
     "evalue": "int() argument must be a string, a bytes-like object or a number, not 're.Match'",
     "output_type": "error",
     "traceback": [
      "\u001b[0;31m---------------------------------------------------------------------------\u001b[0m",
      "\u001b[0;31mTypeError\u001b[0m                                 Traceback (most recent call last)",
      "\u001b[0;32m<ipython-input-34-49af320db22d>\u001b[0m in \u001b[0;36m<module>\u001b[0;34m\u001b[0m\n\u001b[1;32m     11\u001b[0m                 \u001b[0mpot_good\u001b[0m \u001b[0;34m=\u001b[0m \u001b[0;32mFalse\u001b[0m\u001b[0;34m\u001b[0m\u001b[0;34m\u001b[0m\u001b[0m\n\u001b[1;32m     12\u001b[0m                 \u001b[0;32mbreak\u001b[0m\u001b[0;34m\u001b[0m\u001b[0;34m\u001b[0m\u001b[0m\n\u001b[0;32m---> 13\u001b[0;31m             \u001b[0;32melif\u001b[0m \u001b[0mint\u001b[0m\u001b[0;34m(\u001b[0m\u001b[0mnum_part_obj\u001b[0m\u001b[0;34m)\u001b[0m \u001b[0;34m>=\u001b[0m \u001b[0;36m2023\u001b[0m\u001b[0;34m:\u001b[0m\u001b[0;34m\u001b[0m\u001b[0;34m\u001b[0m\u001b[0m\n\u001b[0m\u001b[1;32m     14\u001b[0m                 \u001b[0mpot_good\u001b[0m \u001b[0;34m=\u001b[0m \u001b[0;32mFalse\u001b[0m\u001b[0;34m\u001b[0m\u001b[0;34m\u001b[0m\u001b[0m\n\u001b[1;32m     15\u001b[0m                 \u001b[0;32mbreak\u001b[0m\u001b[0;34m\u001b[0m\u001b[0;34m\u001b[0m\u001b[0m\n",
      "\u001b[0;31mTypeError\u001b[0m: int() argument must be a string, a bytes-like object or a number, not 're.Match'"
     ]
    }
   ],
   "source": [
    "all_semicolons = 0\n",
    "for key, value in friday_data.items():\n",
    "    raw_value = value[\"trimmedText\"]\n",
    "    num_part_obj = re.search('(\\d{4})', raw_value)\n",
    "    if \";\" in raw_value and \"&amp;\" not in raw_value and \"&nbsp;\":\n",
    "        raw_value_split = raw_value.split(\";\")\n",
    "        pot_good = True\n",
    "        for a_pot in raw_value_split:\n",
    "            num_part_obj = re.search('(\\d{4})', a_pot)\n",
    "            if not num_part_obj:\n",
    "                pot_good = False\n",
    "                break\n",
    "#             elif int(num_part_obj) >= 2023:\n",
    "#                 pot_good = False\n",
    "#                 break\n",
    "        if pot_good:\n",
    "            if all_semicolons <= 10:\n",
    "                print(key)\n",
    "                for aa in raw_value_split:\n",
    "                    print(\"* \", aa.strip())\n",
    "                print(\"____\")\n",
    "            all_semicolons += 1\n",
    "\n",
    "print(all_semicolons)"
   ]
  },
  {
   "cell_type": "code",
   "execution_count": 17,
   "id": "violent-myrtle",
   "metadata": {},
   "outputs": [
    {
     "name": "stdout",
     "output_type": "stream",
     "text": [
      "MAJIDBENAM_REF_33_GrCrNPa : Whitelaw, T. 2000. \"Beyond the palace: a century of investigation in Europe’s oldest city,\" <i>BICS</i> 44, 223-26; Whitelaw, T. 2001. \"From sites to communities: defining the human dimensions of Minoan urbanism,\" in Branigan, K. (ed.), <i>Urbanism in the Aegean Bronze Age</i> (SSAA 4), Sheffield, 15-37; Whitelaw, T. 2004. \"Estimating the population of Neopalatial Knossos,\" in Cadogan, G., Hatzaki, E. and Vasilakis, A. (eds),  <i>Knossos: Palace, City, State: Proceedings of the Conference in Herakleion organized by the British School at Athens and the 23rd Ephoreia of Prehistoric and Classical Antiquities of Herakleion, in November 2000, for the Centenary of Sir Arthur Evans's Excavations at Knossos</i> (<i>BSA</i> Studies 12), London, 147-58; Whitelaw, T. 2012. \"The urbanization of Prehistoric Crete: settlement perspectives on Minoan state formation,\" in Schope, I., Tomkins, P. and Driessen, J. (eds), <i>Back to the Beginning: Reassessing Social and Political Complexity on Crete during the Early and Middle Bronze Age</i>, Oxford 114-76; Whitelaw, T. 2014. \"Political formations in Prehistoric Crete\", <i>BICS</i> 57, 143-44. [['EWW3Q2TA', 'AX5C8IM7', 'AN5IUQ7X', '4TUUPI84', 'ZGCBFR3L', 'A8YX3MJL', 'DDLP4ZTL', 'NUG3GGKU', 'KXWS9ELC', 'EG39XYZK', 'FWQS57ZQ', 'M7542QFS', 'VI96WCGZ', '88QP4IQQ', 'JJ82VBRC', 'M8SW6PFJ', '5EG397K9']]\n",
      "MAJIDBENAM_REF_1_USIllin : Illinois State Museum, The Illinois, Identity (2000), <a rel=\"nofollow\" class=\"external free\" href=\"http://www.museum.state.il.us/muslink/nat_amer/post/htmls/hi_decline.html\">http://www.museum.state.il.us/muslink/nat_amer/post/htmls/hi_decline.html</a> [['7P9VHMMN', 'REVSHE82', 'PT8275IS', '8HIZDLLN', 'UCNYWPPC', '3ULKD3EW', 'MC5Y4TKP', 'SNWMP7V9', 'RPHMLAPJ', 'FF64WHHS', '9CGXSW3W', 'MUGUIKKK', 'RVSF7S3Z', '7Q9S6GMB', 'TZ799XNQ', 'HN3VF25Z']]\n",
      "MAJIDBENAM_REF_3_USIllin : Illinois State Museum, The Illinois, History (2000), <a rel=\"nofollow\" class=\"external free\" href=\"http://www.museum.state.il.us/muslink/nat_amer/post/htmls/il_hi.html\">http://www.museum.state.il.us/muslink/nat_amer/post/htmls/il_hi.html</a> [['7P9VHMMN', 'REVSHE82', 'PT8275IS', '8HIZDLLN', 'UCNYWPPC', '3ULKD3EW', 'MC5Y4TKP', 'SNWMP7V9', 'RPHMLAPJ', 'FF64WHHS', '9CGXSW3W', 'MUGUIKKK', 'RVSF7S3Z', '7Q9S6GMB', 'TZ799XNQ', 'HN3VF25Z']]\n",
      "MAJIDBENAM_REF_14_USIllin : Illinois State Museum, The Illinois, Identity: Language (2000), <a rel=\"nofollow\" class=\"external free\" href=\"http://www.museum.state.il.us/muslink/nat_amer/post/htmls/id_lang.html\">http://www.museum.state.il.us/muslink/nat_amer/post/htmls/id_lang.html</a> [['7P9VHMMN', 'REVSHE82', 'PT8275IS', '8HIZDLLN', 'UCNYWPPC', '3ULKD3EW', 'MC5Y4TKP', 'SNWMP7V9', 'RPHMLAPJ', 'FF64WHHS', '9CGXSW3W', 'MUGUIKKK', 'RVSF7S3Z', '7Q9S6GMB', 'TZ799XNQ', 'HN3VF25Z']]\n",
      "MAJIDBENAM_REF_31_USIllin : Illinois State Museum, The Illinois, History: The Illinois Decline (2000), <a rel=\"nofollow\" class=\"external free\" href=\"http://www.museum.state.il.us/muslink/nat_amer/post/htmls/hi_decline.html\">http://www.museum.state.il.us/muslink/nat_amer/post/htmls/hi_decline.html</a> [['7P9VHMMN', 'REVSHE82', 'PT8275IS', '8HIZDLLN', 'UCNYWPPC', '3ULKD3EW', 'MC5Y4TKP', 'SNWMP7V9', 'RPHMLAPJ', 'FF64WHHS', '9CGXSW3W', 'MUGUIKKK', 'RVSF7S3Z', '7Q9S6GMB', 'TZ799XNQ', 'HN3VF25Z']]\n",
      "MAJIDBENAM_REF_33_USIllin : Illinois State Museum, The Illinois, History: Exploration (2000), <a rel=\"nofollow\" class=\"external free\" href=\"http://www.museum.state.il.us/muslink/nat_amer/post/htmls/hi_explore.html\">http://www.museum.state.il.us/muslink/nat_amer/post/htmls/hi_explore.html</a> [['7P9VHMMN', 'REVSHE82', 'PT8275IS', '8HIZDLLN', 'UCNYWPPC', '3ULKD3EW', 'MC5Y4TKP', 'SNWMP7V9', 'RPHMLAPJ', 'FF64WHHS', '9CGXSW3W', 'MUGUIKKK', 'RVSF7S3Z', '7Q9S6GMB', 'TZ799XNQ', 'HN3VF25Z']]\n",
      "MAJIDBENAM_REF_39_USIllin : Illinois State Museum, The Illinois: Society: Leaders (2000), <a rel=\"nofollow\" class=\"external free\" href=\"http://www.museum.state.il.us/muslink/nat_amer/post/htmls/te_houses.html\">http://www.museum.state.il.us/muslink/nat_amer/post/htmls/te_houses.html</a> [['7P9VHMMN', 'REVSHE82', 'PT8275IS', '8HIZDLLN', 'UCNYWPPC', '3ULKD3EW', 'MC5Y4TKP', 'SNWMP7V9', 'RPHMLAPJ', 'FF64WHHS', '9CGXSW3W', 'MUGUIKKK', 'RVSF7S3Z', '7Q9S6GMB', 'TZ799XNQ', 'HN3VF25Z']]\n",
      "MAJIDBENAM_REF_42_USIllin : Illinois State Museum, The Illinois: Society: Leaders (2000), <a rel=\"nofollow\" class=\"external free\" href=\"http://www.museum.state.il.us/muslink/nat_amer/post/htmls/soc_leaders.html\">http://www.museum.state.il.us/muslink/nat_amer/post/htmls/soc_leaders.html</a> [['7P9VHMMN', 'REVSHE82', 'PT8275IS', '8HIZDLLN', 'UCNYWPPC', '3ULKD3EW', 'MC5Y4TKP', 'SNWMP7V9', 'RPHMLAPJ', 'FF64WHHS', '9CGXSW3W', 'MUGUIKKK', 'RVSF7S3Z', '7Q9S6GMB', 'TZ799XNQ', 'HN3VF25Z']]\n",
      "MAJIDBENAM_REF_49_USIllin : Illinois State Museum, The Illinois, Technology: Houses (2000), <a rel=\"nofollow\" class=\"external free\" href=\"http://www.museum.state.il.us/muslink/nat_amer/post/htmls/te_houses.html\">http://www.museum.state.il.us/muslink/nat_amer/post/htmls/te_houses.html</a> [['7P9VHMMN', 'REVSHE82', 'PT8275IS', '8HIZDLLN', 'UCNYWPPC', '3ULKD3EW', 'MC5Y4TKP', 'SNWMP7V9', 'RPHMLAPJ', 'FF64WHHS', '9CGXSW3W', 'MUGUIKKK', 'RVSF7S3Z', '7Q9S6GMB', 'TZ799XNQ', 'HN3VF25Z']]\n",
      "MAJIDBENAM_REF_64_USIllin : Illinois State Museum, The Illinois, Technology: Tools and Utensils (2000), <a rel=\"nofollow\" class=\"external free\" href=\"http://www.museum.state.il.us/muslink/nat_amer/post/htmls/te_tools.html\">http://www.museum.state.il.us/muslink/nat_amer/post/htmls/te_tools.html</a> [['7P9VHMMN', 'REVSHE82', 'PT8275IS', '8HIZDLLN', 'UCNYWPPC', '3ULKD3EW', 'MC5Y4TKP', 'SNWMP7V9', 'RPHMLAPJ', 'FF64WHHS', '9CGXSW3W', 'MUGUIKKK', 'RVSF7S3Z', '7Q9S6GMB', 'TZ799XNQ', 'HN3VF25Z']]\n",
      "MAJIDBENAM_REF_68_USIllin : Illinois State Museum, The Illinois, Technology: Weapons (2000), <a rel=\"nofollow\" class=\"external free\" href=\"http://www.museum.state.il.us/muslink/nat_amer/post/htmls/te_houses.html\">http://www.museum.state.il.us/muslink/nat_amer/post/htmls/te_houses.html</a> [['7P9VHMMN', 'REVSHE82', 'PT8275IS', '8HIZDLLN', 'UCNYWPPC', '3ULKD3EW', 'MC5Y4TKP', 'SNWMP7V9', 'RPHMLAPJ', 'FF64WHHS', '9CGXSW3W', 'MUGUIKKK', 'RVSF7S3Z', '7Q9S6GMB', 'TZ799XNQ', 'HN3VF25Z']]\n",
      "MAJIDBENAM_REF_80_USIllin : Illinois State Museum, Illinois Society: Technology: Weapons (2000), <a rel=\"nofollow\" class=\"external free\" href=\"http://www.museum.state.il.us/muslink/nat_amer/post/htmls/te_weapons.html\">http://www.museum.state.il.us/muslink/nat_amer/post/htmls/te_weapons.html</a> [['7P9VHMMN', 'REVSHE82', 'PT8275IS', '8HIZDLLN', 'UCNYWPPC', '3ULKD3EW', 'MC5Y4TKP', 'SNWMP7V9', 'RPHMLAPJ', 'FF64WHHS', '9CGXSW3W', 'MUGUIKKK', 'RVSF7S3Z', '7Q9S6GMB', 'TZ799XNQ', 'HN3VF25Z']]\n",
      "MAJIDBENAM_REF_86_USIllin : Illinois State Museum, Illinois Society: Warfare (2000), <a rel=\"nofollow\" class=\"external free\" href=\"http://www.museum.state.il.us/muslink/nat_amer/post/htmls/soc_war.html\">http://www.museum.state.il.us/muslink/nat_amer/post/htmls/soc_war.html</a> [['7P9VHMMN', 'REVSHE82', 'PT8275IS', '8HIZDLLN', 'UCNYWPPC', '3ULKD3EW', 'MC5Y4TKP', 'SNWMP7V9', 'RPHMLAPJ', 'FF64WHHS', '9CGXSW3W', 'MUGUIKKK', 'RVSF7S3Z', '7Q9S6GMB', 'TZ799XNQ', 'HN3VF25Z']]\n",
      "MAJIDBENAM_REF_102_USIllin : Illinois State Museum, Illinois Economy: Settlements (2000), <a rel=\"nofollow\" class=\"external free\" href=\"http://www.museum.state.il.us/muslink/nat_amer/post/htmls/ec_settle.html\">http://www.museum.state.il.us/muslink/nat_amer/post/htmls/ec_settle.html</a> [['7P9VHMMN', 'REVSHE82', 'PT8275IS', '8HIZDLLN', 'UCNYWPPC', '3ULKD3EW', 'MC5Y4TKP', 'SNWMP7V9', 'RPHMLAPJ', 'FF64WHHS', '9CGXSW3W', 'MUGUIKKK', 'RVSF7S3Z', '7Q9S6GMB', 'TZ799XNQ', 'HN3VF25Z']]\n",
      "MAJIDBENAM_REF_116_USIllin : Illinois State Museum, Illinois History: Illinois Decline (2000),<a rel=\"nofollow\" class=\"external free\" href=\"http://www.museum.state.il.us/muslink/nat_amer/post/htmls/hi_decline.html\">http://www.museum.state.il.us/muslink/nat_amer/post/htmls/hi_decline.html</a> [['7P9VHMMN', 'REVSHE82', 'PT8275IS', '8HIZDLLN', 'UCNYWPPC', '3ULKD3EW', 'MC5Y4TKP', 'SNWMP7V9', 'RPHMLAPJ', 'FF64WHHS', '9CGXSW3W', 'MUGUIKKK', 'RVSF7S3Z', '7Q9S6GMB', 'TZ799XNQ', 'HN3VF25Z']]\n",
      "MAJIDBENAM_REF_5_USOneot : Illinois State Museum, Late Prehistoric, Identity (2000), <a rel=\"nofollow\" class=\"external free\" href=\"http://www.museum.state.il.us/muslink/nat_amer/pre/htmls/lp_id.html\">http://www.museum.state.il.us/muslink/nat_amer/pre/htmls/lp_id.html</a> [['7P9VHMMN', 'REVSHE82', 'PT8275IS', '8HIZDLLN', 'UCNYWPPC', '3ULKD3EW', 'MC5Y4TKP', 'SNWMP7V9', 'RPHMLAPJ', 'FF64WHHS', '9CGXSW3W', 'MUGUIKKK', 'RVSF7S3Z', '7Q9S6GMB', 'TZ799XNQ', 'HN3VF25Z']]\n",
      "MAJIDBENAM_REF_15_USOneot : Illinois State Museum, Late Prehistoric, Economy: Settlement (2000), <a rel=\"nofollow\" class=\"external free\" href=\"http://www.museum.state.il.us/muslink/nat_amer/pre/htmls/lp_settle.html\">http://www.museum.state.il.us/muslink/nat_amer/pre/htmls/lp_settle.html</a> [['7P9VHMMN', 'REVSHE82', 'PT8275IS', '8HIZDLLN', 'UCNYWPPC', '3ULKD3EW', 'MC5Y4TKP', 'SNWMP7V9', 'RPHMLAPJ', 'FF64WHHS', '9CGXSW3W', 'MUGUIKKK', 'RVSF7S3Z', '7Q9S6GMB', 'TZ799XNQ', 'HN3VF25Z']]\n",
      "MAJIDBENAM_REF_39_USOneot : Illinois State Museum, Late Prehistoric, Technology: Weapons (2000), <a rel=\"nofollow\" class=\"external free\" href=\"http://www.museum.state.il.us/muslink/nat_amer/pre/htmls/lp_weapons.html\">http://www.museum.state.il.us/muslink/nat_amer/pre/htmls/lp_weapons.html</a> [['7P9VHMMN', 'REVSHE82', 'PT8275IS', '8HIZDLLN', 'UCNYWPPC', '3ULKD3EW', 'MC5Y4TKP', 'SNWMP7V9', 'RPHMLAPJ', 'FF64WHHS', '9CGXSW3W', 'MUGUIKKK', 'RVSF7S3Z', '7Q9S6GMB', 'TZ799XNQ', 'HN3VF25Z']]\n",
      "[(1, <class 'list'>, 2), (1, <class 'list'>, 3), (1, <class 'list'>, 6), (1, <class 'list'>, 1), (0, <class 'list'>, 0), (1, <class 'list'>, 4), (1, <class 'list'>, 8), (1, <class 'list'>, 5), (1, <class 'list'>, 7), (1, <class 'list'>, 10), (1, <class 'list'>, 11), (1, <class 'list'>, 12), (1, <class 'list'>, 17), (1, <class 'list'>, 9), (1, <class 'list'>, 16)]\n"
     ]
    }
   ],
   "source": [
    "all_variants = []\n",
    "for key, value in friday_data.items():\n",
    "    raw_value = value[\"zoteroID\"]\n",
    "    type_ID = type(raw_value)\n",
    "    len_ID = len(raw_value)\n",
    "    if len_ID > 0:\n",
    "        inner_length = len(raw_value[0])\n",
    "    else:\n",
    "        inner_length = 0\n",
    "    a_tuple = (len_ID, type_ID, inner_length)\n",
    "    if inner_length >= 15:\n",
    "        print(key, \":\", value[\"trimmedText\"],raw_value)\n",
    "    if a_tuple not in all_variants:\n",
    "        all_variants.append(a_tuple)\n",
    "\n",
    "print(all_variants)"
   ]
  },
  {
   "cell_type": "code",
   "execution_count": null,
   "id": "downtown-freedom",
   "metadata": {},
   "outputs": [],
   "source": []
  },
  {
   "cell_type": "code",
   "execution_count": null,
   "id": "negative-armenia",
   "metadata": {},
   "outputs": [],
   "source": [
    "len(my_ult_ref_dic)"
   ]
  },
  {
   "cell_type": "code",
   "execution_count": null,
   "id": "modern-gravity",
   "metadata": {},
   "outputs": [],
   "source": [
    "with open(\"Seshat_Databank_Dec_6.json\") as json_zotero:\n",
    "    json_zotero_data = json.load(json_zotero)"
   ]
  },
  {
   "cell_type": "code",
   "execution_count": null,
   "id": "inappropriate-omaha",
   "metadata": {},
   "outputs": [],
   "source": [
    "json_zotero_data[77]"
   ]
  },
  {
   "cell_type": "code",
   "execution_count": null,
   "id": "dedicated-blast",
   "metadata": {},
   "outputs": [],
   "source": [
    "12% 5"
   ]
  },
  {
   "cell_type": "code",
   "execution_count": null,
   "id": "administrative-stanford",
   "metadata": {
    "scrolled": true
   },
   "outputs": [],
   "source": [
    "my_ult_ref_dic['MAJIDBENAM_REF_142_AfGhurd']"
   ]
  },
  {
   "cell_type": "code",
   "execution_count": null,
   "id": "devoted-interval",
   "metadata": {},
   "outputs": [],
   "source": [
    "my_ult_ref_dic['MAJIDBENAM_REF_188_AfGhurd']"
   ]
  },
  {
   "cell_type": "code",
   "execution_count": null,
   "id": "white-municipality",
   "metadata": {},
   "outputs": [],
   "source": [
    "import re\n",
    "\n",
    "a_str = \"\"\"\n",
    "<sup id=\"cite_ref-1009\" class=\"reference\"><a href=\"#cite_note-1009\">[1,009]</a></sup>\n",
    "\"\"\"\n",
    "#<sup id=\"cite_ref-1009\" class=\"reference\"><a href=\"#cite_note-1009\">[1,009]</a></sup>\n",
    "\n",
    "\n",
    "RefRegex = re.compile('<sup id=\"cite_ref-(\\d{1,4})\" class=\"reference\"><a href=\"#cite_note-(\\d{1,4})\">\\[(\\d{1,4}|\\d{1},\\d{3})\\]</a></sup>')\n",
    "catches_all = RefRegex.finditer(a_str)"
   ]
  },
  {
   "cell_type": "code",
   "execution_count": null,
   "id": "distinct-desert",
   "metadata": {},
   "outputs": [],
   "source": [
    "catches_all"
   ]
  },
  {
   "cell_type": "code",
   "execution_count": null,
   "id": "southwest-winner",
   "metadata": {},
   "outputs": [],
   "source": [
    "for index, catches in enumerate(catches_all):\n",
    "    updated_catch_3 = catches.group(3).replace(\",\", \"\")\n",
    "    print(catches.group(1), catches.group(2), updated_catch_3, type(updated_catch_3))\n",
    "    new_match_regex = f'<li id=\"cite_note-{catches.group(1)}\"><span class=\"mw-cite-backlink\"><a href=\"#cite_ref-{catches.group(1)}\"><span class=\"cite-accessibility-label\">Jump up </span>↑</a></span> <span class=\"reference-text\">(.*)</span>'\n",
    "    a_new_str = f\"\"\"hthtz\n",
    "<li id=\"cite_note-1009\"><span class=\"mw-cite-backlink\"><a href=\"#cite_ref-1009\"><span class=\"cite-accessibility-label\">Jump up </span>↑</a></span> <span class=\"reference-text\">(Higham 2014b, pp. 351-352)</span>\n",
    "</li>\"\"\"\n",
    "    RefRegex = re.compile(new_match_regex)\n",
    "    catches_all_new = RefRegex.finditer(a_new_str)\n",
    "    print(a_new_str)\n",
    "    for c in catches_all_new:\n",
    "        print(c.group(1))\n",
    "    print(catches_all_new)"
   ]
  },
  {
   "cell_type": "code",
   "execution_count": null,
   "id": "brazilian-coalition",
   "metadata": {},
   "outputs": [],
   "source": [
    "a_new_str = \"\"\"\n",
    "<li id=\"cite_note-{catches.group(1)}\"><span class=\"mw-cite-backlink\"><a href=\"#cite_ref-{catches.group(1)}\"><span class=\"cite-accessibility-label\">Jump up </span>↑</a></span> <span class=\"reference-text\">Ali yaret</span></li>\n",
    "\"\"\""
   ]
  },
  {
   "cell_type": "code",
   "execution_count": null,
   "id": "desperate-melissa",
   "metadata": {},
   "outputs": [],
   "source": [
    "a_new_str = \"\"\"\n",
    "to the Heart of Islam pp.87-77\"\"\"\n",
    "pp_finderRegex = re.compile(' pp.\\s*(\\d{2})-(\\d{1,3})')\n",
    "catches_all = list(pp_finderRegex.finditer(a_new_str))"
   ]
  },
  {
   "cell_type": "code",
   "execution_count": null,
   "id": "cardiovascular-disease",
   "metadata": {},
   "outputs": [],
   "source": []
  },
  {
   "cell_type": "code",
   "execution_count": null,
   "id": "cutting-scotland",
   "metadata": {},
   "outputs": [],
   "source": [
    "for pp_c in catches_all:\n",
    "    to_be_removed = pp_c.group(1) + \"-\" + pp_c.group(2)\n",
    "    print(\"JI:\", to_be_removed)\n"
   ]
  },
  {
   "cell_type": "code",
   "execution_count": null,
   "id": "adult-router",
   "metadata": {},
   "outputs": [],
   "source": [
    "with open(\"all_english_words.txt\", \"r\") as my_file:\n",
    "    contents = my_file.readlines()"
   ]
  },
  {
   "cell_type": "code",
   "execution_count": null,
   "id": "gross-panic",
   "metadata": {},
   "outputs": [],
   "source": [
    "for word in contents:\n",
    "    word = word.lower()\n",
    "    if len(word) == 6 and \"a\" not in word and \"l\" not in word and \"e\" not in word and \"w\" in word and word[0] != \"w\" and \"h\" in word and word[1]!= \"h\":\n",
    "        print(word, end=\"\")"
   ]
  },
  {
   "cell_type": "code",
   "execution_count": null,
   "id": "constant-douglas",
   "metadata": {},
   "outputs": [],
   "source": []
  }
 ],
 "metadata": {
  "kernelspec": {
   "display_name": "Python 3",
   "language": "python",
   "name": "python3"
  },
  "language_info": {
   "codemirror_mode": {
    "name": "ipython",
    "version": 3
   },
   "file_extension": ".py",
   "mimetype": "text/x-python",
   "name": "python",
   "nbconvert_exporter": "python",
   "pygments_lexer": "ipython3",
   "version": "3.8.10"
  }
 },
 "nbformat": 4,
 "nbformat_minor": 5
}
